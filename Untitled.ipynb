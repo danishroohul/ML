{
 "cells": [
  {
   "cell_type": "code",
   "execution_count": 1,
   "id": "73bf0647-d10e-490a-8c37-33231c2a0e84",
   "metadata": {},
   "outputs": [],
   "source": [
    "from sklearn.feature_extraction.text import TfidfVectorizer\n",
    "from sklearn.metrics.pairwise import cosine_similarity\n",
    "\n",
    "corpus = [\"can you please come here\", \"can you please come to meet sofia\"]\n",
    "\n",
    "vectorizer = TfidfVectorizer(stop_words='english')\n",
    "tfidf_matrix = vectorizer.fit_transform(corpus)\n"
   ]
  },
  {
   "cell_type": "code",
   "execution_count": 3,
   "id": "69bfc5ee-bb42-45c7-bf2d-a28d25da0bc0",
   "metadata": {},
   "outputs": [
    {
     "data": {
      "text/plain": [
       "array([[0.44943642]])"
      ]
     },
     "execution_count": 3,
     "metadata": {},
     "output_type": "execute_result"
    }
   ],
   "source": [
    "cosine_sim = cosine_similarity(tfidf_matrix[0], tfidf_matrix[1])\n",
    "cosine_sim"
   ]
  },
  {
   "cell_type": "code",
   "execution_count": 10,
   "id": "343fe3b4-eb31-46fc-82b1-79595f439b54",
   "metadata": {},
   "outputs": [
    {
     "name": "stderr",
     "output_type": "stream",
     "text": [
      "[nltk_data] Downloading package stopwords to\n",
      "[nltk_data]     C:\\Users\\roohu\\AppData\\Roaming\\nltk_data...\n",
      "[nltk_data]   Package stopwords is already up-to-date!\n"
     ]
    },
    {
     "data": {
      "text/plain": [
       "['please come', 'please come meet sofia']"
      ]
     },
     "execution_count": 10,
     "metadata": {},
     "output_type": "execute_result"
    }
   ],
   "source": [
    "import nltk\n",
    "from nltk.corpus import stopwords\n",
    "nltk.download('stopwords')\n",
    "\n",
    "corpus = [\"can you please come here\", \"can you please come to meet sofia\"]\n",
    "stop_words = set(stopwords.words('english'))\n",
    "\n",
    "cleaned_corpus = []\n",
    "for doc in corpus:\n",
    "    words = doc.split()\n",
    "    cleaned_doc = [word for word in words if word not in stop_words]\n",
    "    cleaned_corpus.append(' '.join(cleaned_doc))\n",
    "cleaned_corpus"
   ]
  },
  {
   "cell_type": "code",
   "execution_count": 5,
   "id": "baa0e384-eee3-4b18-9c0f-12e7f75dc741",
   "metadata": {},
   "outputs": [],
   "source": [
    "from sklearn.feature_extraction.text import CountVectorizer\n",
    "\n",
    "vectorizer = CountVectorizer()\n",
    "TF_matrix = vectorizer.fit_transform(cleaned_corpus)\n"
   ]
  },
  {
   "cell_type": "code",
   "execution_count": 6,
   "id": "db7123af-bc1a-4a70-8070-ed9148587cee",
   "metadata": {},
   "outputs": [],
   "source": [
    "from sklearn.metrics.pairwise import cosine_similarity\n",
    "\n",
    "cosine_sim = cosine_similarity(TF_matrix)\n"
   ]
  },
  {
   "cell_type": "code",
   "execution_count": 7,
   "id": "d680d163-7608-4d2d-b90d-7ff063f1e93f",
   "metadata": {},
   "outputs": [],
   "source": [
    "cosine_similarity_value = cosine_sim[0][1]\n"
   ]
  },
  {
   "cell_type": "code",
   "execution_count": 8,
   "id": "e66f2d87-3c64-422c-9b13-bbc0398ed2ae",
   "metadata": {},
   "outputs": [
    {
     "data": {
      "text/plain": [
       "0.7071067811865475"
      ]
     },
     "execution_count": 8,
     "metadata": {},
     "output_type": "execute_result"
    }
   ],
   "source": [
    "cosine_similarity_value"
   ]
  },
  {
   "cell_type": "code",
   "execution_count": 9,
   "id": "ca673ba8-7dd3-49bb-9948-e762b0591bb8",
   "metadata": {},
   "outputs": [
    {
     "data": {
      "text/plain": [
       "array([[1.        , 0.70710678],\n",
       "       [0.70710678, 1.        ]])"
      ]
     },
     "execution_count": 9,
     "metadata": {},
     "output_type": "execute_result"
    }
   ],
   "source": [
    "cosine_sim"
   ]
  },
  {
   "cell_type": "code",
   "execution_count": null,
   "id": "7dfeb90f-c3f5-4332-b70d-5d3ec88056d3",
   "metadata": {},
   "outputs": [],
   "source": []
  }
 ],
 "metadata": {
  "kernelspec": {
   "display_name": "Python 3 (ipykernel)",
   "language": "python",
   "name": "python3"
  },
  "language_info": {
   "codemirror_mode": {
    "name": "ipython",
    "version": 3
   },
   "file_extension": ".py",
   "mimetype": "text/x-python",
   "name": "python",
   "nbconvert_exporter": "python",
   "pygments_lexer": "ipython3",
   "version": "3.11.5"
  }
 },
 "nbformat": 4,
 "nbformat_minor": 5
}
