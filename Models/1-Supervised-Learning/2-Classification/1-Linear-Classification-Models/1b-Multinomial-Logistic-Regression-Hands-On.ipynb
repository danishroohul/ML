{
 "cells": [
  {
   "cell_type": "markdown",
   "id": "fb05d060",
   "metadata": {
    "toc": true
   },
   "source": [
    "<h1>Table of Contents<span class=\"tocSkip\"></span></h1>\n",
    "<div class=\"toc\"><ul class=\"toc-item\"><li><span><a href=\"#Hands-On-Exercises\" data-toc-modified-id=\"Hands-On-Exercises-1\"><span class=\"toc-item-num\">1&nbsp;&nbsp;</span>Hands-On Exercises</a></span></li></ul></div>"
   ]
  },
  {
   "cell_type": "markdown",
   "id": "80c6ace6",
   "metadata": {},
   "source": [
    "# Hands-On Exercises"
   ]
  },
  {
   "cell_type": "markdown",
   "id": "7289f497",
   "metadata": {},
   "source": [
    "**Exercise 1: Iris Flower Classification**\n",
    "\n",
    "- **Dataset:** [Iris Dataset](https://scikit-learn.org/stable/modules/generated/sklearn.datasets.load_iris.html)\n",
    "- **Source:** scikit-learn\n",
    "- **Description:** Classify iris flowers into three species (Setosa, Versicolor, Virginica) based on sepal and petal measurements.\n",
    "- **Action:** \n",
    "    - Load the Iris dataset and preprocess it if necessary.\n",
    "    - Split the data into training and testing sets.\n",
    "    - Implement multinomial logistic regression for iris flower classification.\n",
    "    - Fit the model to the training data.\n",
    "    - Make predictions on the test data.\n",
    "    - Evaluate the model's performance using metrics like accuracy, precision, recall, and F1-score.\n",
    "    "
   ]
  },
  {
   "cell_type": "markdown",
   "id": "183f53e2",
   "metadata": {},
   "source": [
    "**Exercise 2: News Article Categorization**\n",
    "\n",
    "- **Dataset:** [20 Newsgroups Dataset](https://scikit-learn.org/stable/modules/generated/sklearn.datasets.fetch_20newsgroups.html)\n",
    "- **Source:** scikit-learn\n",
    "- **Description:** Categorize news articles into 20 different newsgroups based on their content.\n",
    "- **Action:** \n",
    "    - Load the 20 Newsgroups dataset and preprocess it.\n",
    "    - Split the data into training and testing sets.\n",
    "    - Implement multinomial logistic regression for news article categorization.\n",
    "    - Fit the model to the training data.\n",
    "    - Make predictions on the test data.\n",
    "    - Evaluate the model's performance using metrics like accuracy, precision, recall, and F1-score."
   ]
  },
  {
   "cell_type": "markdown",
   "id": "abadda21",
   "metadata": {},
   "source": [
    "**Exercise 3: Fruit Image Classification**\n",
    "\n",
    "- **Dataset:** [Fruit Image Dataset](https://www.kaggle.com/moltean/fruits)\n",
    "- **Source:** Kaggle\n",
    "- **Description:** Classify images of various fruits (e.g., apples, bananas, oranges) into their respective categories.\n",
    "- **Action:** \n",
    "    - Load the fruit image dataset and preprocess the image data.\n",
    "    - Split the data into training and testing sets.\n",
    "    - Implement multinomial logistic regression for fruit image classification.\n",
    "    - Fit the model to the training data.\n",
    "    - Make predictions on the test data.\n",
    "    - Evaluate the model's performance using metrics like accuracy, precision, recall, and F1-score."
   ]
  },
  {
   "cell_type": "markdown",
   "id": "3c9fd409",
   "metadata": {},
   "source": [
    "**Exercise 4: Species Classification in Ecology**\n",
    "\n",
    "- **Dataset:** [Ecology Species Dataset](https://archive.ics.uci.edu/ml/datasets/ecology+species+data)\n",
    "- **Source:** UCI Machine Learning Repository\n",
    "- **Description:** Classify species in ecological studies based on habitat and environmental features.\n",
    "- **Action:** \n",
    "    - Load the ecology species dataset and preprocess it, including encoding categorical variables.\n",
    "    - Split the data into training and testing sets.\n",
    "    - Implement multinomial logistic regression for species classification.\n",
    "    - Fit the model to the training data.\n",
    "    - Make predictions on the test data.\n",
    "    - Evaluate the model's performance using metrics like accuracy, precision, recall, and F1-score."
   ]
  }
 ],
 "metadata": {
  "kernelspec": {
   "display_name": "Python 3 (ipykernel)",
   "language": "python",
   "name": "python3"
  },
  "language_info": {
   "codemirror_mode": {
    "name": "ipython",
    "version": 3
   },
   "file_extension": ".py",
   "mimetype": "text/x-python",
   "name": "python",
   "nbconvert_exporter": "python",
   "pygments_lexer": "ipython3",
   "version": "3.11.5"
  },
  "toc": {
   "base_numbering": 1,
   "nav_menu": {},
   "number_sections": true,
   "sideBar": true,
   "skip_h1_title": false,
   "title_cell": "Table of Contents",
   "title_sidebar": "Contents",
   "toc_cell": true,
   "toc_position": {},
   "toc_section_display": true,
   "toc_window_display": true
  }
 },
 "nbformat": 4,
 "nbformat_minor": 5
}
