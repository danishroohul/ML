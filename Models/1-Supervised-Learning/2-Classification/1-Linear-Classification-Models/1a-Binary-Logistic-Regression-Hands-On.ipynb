{
 "cells": [
  {
   "cell_type": "markdown",
   "id": "b70d3bee",
   "metadata": {
    "toc": true
   },
   "source": [
    "<h1>Table of Contents<span class=\"tocSkip\"></span></h1>\n",
    "<div class=\"toc\"><ul class=\"toc-item\"><li><span><a href=\"#Hands-On-Exercises\" data-toc-modified-id=\"Hands-On-Exercises-1\"><span class=\"toc-item-num\">1&nbsp;&nbsp;</span>Hands-On Exercises</a></span></li></ul></div>"
   ]
  },
  {
   "cell_type": "markdown",
   "id": "e3fd8444",
   "metadata": {},
   "source": [
    "# Hands-On Exercises"
   ]
  },
  {
   "cell_type": "markdown",
   "id": "6adcfef6",
   "metadata": {},
   "source": [
    "**Exercise 1: Customer Churn Prediction**\n",
    "\n",
    "- **Dataset:** [Customer Churn Dataset](https://www.kaggle.com/USERNAME/DATASET_NAME)\n",
    "- **Source:** Kaggle\n",
    "- **Description:** Predict whether a customer will churn (leave) a subscription service based on historical usage data, customer demographics, and feedback.\n",
    "- **Action:** \n",
    "    - Load the dataset and preprocess it, including encoding categorical variables.\n",
    "    - Split the data into training and testing sets.\n",
    "    - Implement binary logistic regression to predict customer churn.\n",
    "    - Fit the model to the training data.\n",
    "    - Make predictions on the test data.\n",
    "    - Evaluate the model's performance using metrics such as accuracy, precision, recall, and F1-score."
   ]
  },
  {
   "cell_type": "markdown",
   "id": "4116af26",
   "metadata": {},
   "source": [
    "**Exercise 2: Credit Approval**\n",
    "\n",
    "- **Dataset:** [Credit Approval Dataset](https://archive.ics.uci.edu/ml/datasets/Statlog+%28German+Credit+Data%29)\n",
    "- **Source:** UCI Machine Learning Repository\n",
    "- **Description:** Determine whether a loan applicant is likely to have their credit application approved or denied based on financial and personal attributes.\n",
    "- **Action:** \n",
    "    - Load the dataset and perform necessary preprocessing, including encoding categorical variables.\n",
    "    - Split the data into training and testing sets.\n",
    "    - Implement binary logistic regression to predict credit approval.\n",
    "    - Fit the model to the training data.\n",
    "    - Make predictions on the test data.\n",
    "    - Evaluate the model's performance using metrics like accuracy, precision, recall, and F1-score."
   ]
  },
  {
   "cell_type": "markdown",
   "id": "fb525034",
   "metadata": {},
   "source": [
    "**Exercise 3: Disease Diagnosis**\n",
    "\n",
    "- **Dataset:** [Heart Disease UCI](https://archive.ics.uci.edu/ml/datasets/heart+disease)\n",
    "- **Source:** UCI Machine Learning Repository\n",
    "- **Description:** Diagnose whether a patient has heart disease based on medical test results and patient information.\n",
    "- **Action:** \n",
    "    - Load the dataset and preprocess it, including encoding categorical variables.\n",
    "    - Split the data into training and testing sets.\n",
    "    - Implement binary logistic regression for heart disease diagnosis.\n",
    "    - Fit the model to the training data.\n",
    "    - Make predictions on the test data.\n",
    "    - Evaluate the model's performance using metrics such as accuracy, precision, recall, and F1-score."
   ]
  },
  {
   "cell_type": "markdown",
   "id": "34a17e19",
   "metadata": {},
   "source": [
    "**Exercise 4: Sentiment Analysis**\n",
    "\n",
    "- **Dataset:** [Sentiment140](http://help.sentiment140.com/for-students)\n",
    "- **Source:** Sentiment140\n",
    "- **Description:** Analyze sentiment in tweets to classify them as positive or negative.\n",
    "- **Action:** \n",
    "    - Load the sentiment analysis dataset and preprocess it, including text tokenization and encoding.\n",
    "    - Split the data into training and testing sets.\n",
    "    - Implement binary logistic regression for sentiment analysis.\n",
    "    - Fit the model to the training data.\n",
    "    - Make predictions on the test data.\n",
    "    - Evaluate the model's performance using metrics like accuracy, precision, recall, and F1-score."
   ]
  }
 ],
 "metadata": {
  "kernelspec": {
   "display_name": "Python 3 (ipykernel)",
   "language": "python",
   "name": "python3"
  },
  "language_info": {
   "codemirror_mode": {
    "name": "ipython",
    "version": 3
   },
   "file_extension": ".py",
   "mimetype": "text/x-python",
   "name": "python",
   "nbconvert_exporter": "python",
   "pygments_lexer": "ipython3",
   "version": "3.11.5"
  },
  "toc": {
   "base_numbering": 1,
   "nav_menu": {},
   "number_sections": true,
   "sideBar": true,
   "skip_h1_title": false,
   "title_cell": "Table of Contents",
   "title_sidebar": "Contents",
   "toc_cell": true,
   "toc_position": {},
   "toc_section_display": true,
   "toc_window_display": true
  }
 },
 "nbformat": 4,
 "nbformat_minor": 5
}
