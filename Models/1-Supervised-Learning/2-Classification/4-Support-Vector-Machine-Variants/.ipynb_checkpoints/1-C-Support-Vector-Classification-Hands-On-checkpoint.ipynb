{
 "cells": [
  {
   "cell_type": "markdown",
   "id": "dc3c83f3",
   "metadata": {
    "toc": true
   },
   "source": [
    "<h1>Table of Contents<span class=\"tocSkip\"></span></h1>\n",
    "<div class=\"toc\"><ul class=\"toc-item\"><li><span><a href=\"#Hands-On-Exercises\" data-toc-modified-id=\"Hands-On-Exercises-1\"><span class=\"toc-item-num\">1&nbsp;&nbsp;</span>Hands-On Exercises</a></span></li></ul></div>"
   ]
  },
  {
   "cell_type": "markdown",
   "id": "2c9a508f",
   "metadata": {},
   "source": [
    "# Hands-On Exercises"
   ]
  },
  {
   "cell_type": "markdown",
   "id": "604e2924",
   "metadata": {},
   "source": [
    "**Exercise 1: Binary Classification**\n",
    "\n",
    "- **Dataset:** [UCI Mushroom Data](https://archive.ics.uci.edu/ml/datasets/mushroom)\n",
    "- **Source:** UCI Machine Learning Repository\n",
    "- **Description:** The UCI Mushroom dataset contains various features describing mushrooms as edible or poisonous. The goal is to classify mushrooms as edible (e) or poisonous (p).\n",
    "- **Action:**\n",
    "    1. Load the Mushroom dataset and split it into training and testing sets.\n",
    "    2. Implement a C-SVC model with an RBF kernel to classify mushrooms as edible or poisonous.\n",
    "    3. Evaluate the model's performance using metrics like accuracy, precision, recall, and F1-score."
   ]
  },
  {
   "cell_type": "markdown",
   "id": "0e536930",
   "metadata": {},
   "source": [
    "**Exercise 2: Multi-Class Classification**\n",
    "\n",
    "- **Dataset:** [Wine Quality Data](https://archive.ics.uci.edu/ml/datasets/wine+quality)\n",
    "- **Source:** UCI Machine Learning Repository\n",
    "- **Description:** The Wine Quality dataset contains attributes related to white and red variants of the \"Vinho Verde\" wine. The goal is to classify wine quality into multiple classes (e.g., low, medium, and high).\n",
    "- **Action:**\n",
    "    1. Load the Wine Quality dataset and split it into training and testing sets.\n",
    "    2. Implement a C-SVC model with a linear kernel for multi-class wine quality classification.\n",
    "    3. Calculate accuracy and use a classification report to evaluate the model's performance."
   ]
  },
  {
   "cell_type": "markdown",
   "id": "7a87407f",
   "metadata": {},
   "source": [
    "**Exercise 3: Hyperparameter Tuning**\n",
    "\n",
    "- **Dataset:** [Pima Indians Diabetes Database](https://www.kaggle.com/uciml/pima-indians-diabetes-database)\n",
    "- **Source:** Kaggle\n",
    "- **Description:** This dataset contains features related to the Pima Indian population and their likelihood of developing diabetes. The goal is to predict diabetes diagnosis.\n",
    "- **Action:**\n",
    "    1. Load the Pima Indians Diabetes dataset and split it into training and testing sets.\n",
    "    2. Perform hyperparameter tuning on a C-SVC model to optimize the 'C' parameter for maximum accuracy.\n",
    "    3. Evaluate the model's performance before and after hyperparameter tuning."
   ]
  },
  {
   "cell_type": "markdown",
   "id": "8db439e7",
   "metadata": {},
   "source": [
    "**Exercise 4: Handling Imbalanced Data**\n",
    "\n",
    "- **Dataset:** [Credit Card Fraud Detection](https://www.kaggle.com/mlg-ulb/creditcardfraud)\n",
    "- **Source:** Kaggle\n",
    "- **Description:** This dataset contains credit card transactions with a significant class imbalance between non-fraudulent and fraudulent transactions. The goal is to detect credit card fraud.\n",
    "- **Action:**\n",
    "    1. Load the Credit Card Fraud Detection dataset.\n",
    "    2. Apply a technique to handle class imbalance (e.g., oversampling or cost-sensitive learning) with a C-SVC model.\n",
    "    3. Evaluate the model's performance, emphasizing the importance of handling imbalanced data."
   ]
  },
  {
   "cell_type": "code",
   "execution_count": null,
   "id": "47ae5f41",
   "metadata": {},
   "outputs": [],
   "source": []
  }
 ],
 "metadata": {
  "kernelspec": {
   "display_name": "Python 3 (ipykernel)",
   "language": "python",
   "name": "python3"
  },
  "language_info": {
   "codemirror_mode": {
    "name": "ipython",
    "version": 3
   },
   "file_extension": ".py",
   "mimetype": "text/x-python",
   "name": "python",
   "nbconvert_exporter": "python",
   "pygments_lexer": "ipython3",
   "version": "3.11.5"
  },
  "toc": {
   "base_numbering": 1,
   "nav_menu": {},
   "number_sections": true,
   "sideBar": true,
   "skip_h1_title": false,
   "title_cell": "Table of Contents",
   "title_sidebar": "Contents",
   "toc_cell": true,
   "toc_position": {},
   "toc_section_display": true,
   "toc_window_display": true
  }
 },
 "nbformat": 4,
 "nbformat_minor": 5
}
