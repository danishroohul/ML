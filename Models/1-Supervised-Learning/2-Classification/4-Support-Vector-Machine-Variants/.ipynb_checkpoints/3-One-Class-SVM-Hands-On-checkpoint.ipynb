{
 "cells": [
  {
   "cell_type": "markdown",
   "id": "ba78e1ea",
   "metadata": {
    "toc": true
   },
   "source": [
    "<h1>Table of Contents<span class=\"tocSkip\"></span></h1>\n",
    "<div class=\"toc\"><ul class=\"toc-item\"><li><span><a href=\"#Hands-On-Exercises\" data-toc-modified-id=\"Hands-On-Exercises-1\"><span class=\"toc-item-num\">1&nbsp;&nbsp;</span>Hands-On Exercises</a></span></li></ul></div>"
   ]
  },
  {
   "cell_type": "markdown",
   "id": "371a9428",
   "metadata": {},
   "source": [
    "# Hands-On Exercises"
   ]
  },
  {
   "cell_type": "markdown",
   "id": "98876de9",
   "metadata": {},
   "source": [
    "**Exercise 1: Credit Card Fraud Detection**\n",
    "\n",
    "- **Dataset:** [Credit Card Fraud Detection Dataset](https://www.kaggle.com/mlg-ulb/creditcardfraud)\n",
    "- **Source:** Kaggle\n",
    "- **Description:** This dataset contains credit card transactions, including both legitimate and fraudulent transactions. It's highly imbalanced, making it suitable for One-Class SVM-based fraud detection.\n",
    "- **Action:**\n",
    "    1. Load the dataset and explore its structure.\n",
    "    2. Preprocess the data, including standardization and feature selection if needed.\n",
    "    3. Train a One-Class SVM model for fraud detection.\n",
    "    4. Evaluate the model's performance using appropriate metrics like precision, recall, and F1-score.\n",
    "    5. Experiment with different Nu values and kernels to optimize the model."
   ]
  },
  {
   "cell_type": "markdown",
   "id": "86c9bc2e",
   "metadata": {},
   "source": [
    "**Exercise 2: Network Intrusion Detection**\n",
    "\n",
    "- **Dataset:** [NSL-KDD Dataset](http://www.unb.ca/cic/research/datasets/nsl.html)\n",
    "- **Source:** University of New Brunswick\n",
    "- **Description:** The NSL-KDD dataset is commonly used for network intrusion detection. It includes network traffic data with various types of attacks and normal behavior.\n",
    "- **Action:**\n",
    "    1. Load and preprocess the NSL-KDD dataset.\n",
    "    2. Train a One-Class SVM model for identifying network intrusions.\n",
    "    3. Evaluate the model's performance using metrics like precision, recall, and F1-score.\n",
    "    4. Explore the use of different kernels and Nu values for fine-tuning."
   ]
  },
  {
   "cell_type": "markdown",
   "id": "00d90379",
   "metadata": {},
   "source": [
    "**Exercise 3: Quality Control in Manufacturing**\n",
    "\n",
    "- **Dataset:** [Manufacturing Defects Dataset](https://archive.ics.uci.edu/ml/datasets/SECOM)\n",
    "- **Source:** UCI Machine Learning Repository\n",
    "- **Description:** The dataset contains sensor data from semiconductor manufacturing processes. It's used for quality control to detect defects in the manufacturing process.\n",
    "- **Action:**\n",
    "    1. Load and preprocess the SECOM dataset.\n",
    "    2. Train a One-Class SVM model to identify manufacturing defects.\n",
    "    3. Assess the model's performance, considering precision, recall, and F1-score.\n",
    "    4. Experiment with Nu values and kernel choices to improve the model's accuracy."
   ]
  },
  {
   "cell_type": "markdown",
   "id": "786fabdc",
   "metadata": {},
   "source": [
    "**Exercise 4: Environmental Anomaly Detection**\n",
    "\n",
    "- **Dataset:** [Air Quality Data in Beijing](https://archive.ics.uci.edu/ml/datasets/Beijing+Multi-Site+Air-Quality+Data)\n",
    "- **Source:** UCI Machine Learning Repository\n",
    "- **Description:** The dataset contains air quality measurements from multiple sites in Beijing. It's used to monitor air quality and detect unusual environmental conditions.\n",
    "- **Action:**\n",
    "    1. Load and preprocess the air quality data.\n",
    "    2. Create a One-Class SVM model for environmental anomaly detection.\n",
    "    3. Assess the model's performance, focusing on precision, recall, and F1-score.\n",
    "    4. Adjust Nu values and kernel functions to improve anomaly detection accuracy."
   ]
  },
  {
   "cell_type": "code",
   "execution_count": null,
   "id": "59852bcb",
   "metadata": {},
   "outputs": [],
   "source": []
  }
 ],
 "metadata": {
  "kernelspec": {
   "display_name": "Python 3 (ipykernel)",
   "language": "python",
   "name": "python3"
  },
  "language_info": {
   "codemirror_mode": {
    "name": "ipython",
    "version": 3
   },
   "file_extension": ".py",
   "mimetype": "text/x-python",
   "name": "python",
   "nbconvert_exporter": "python",
   "pygments_lexer": "ipython3",
   "version": "3.11.5"
  },
  "toc": {
   "base_numbering": 1,
   "nav_menu": {},
   "number_sections": true,
   "sideBar": true,
   "skip_h1_title": false,
   "title_cell": "Table of Contents",
   "title_sidebar": "Contents",
   "toc_cell": true,
   "toc_position": {},
   "toc_section_display": true,
   "toc_window_display": true
  }
 },
 "nbformat": 4,
 "nbformat_minor": 5
}
