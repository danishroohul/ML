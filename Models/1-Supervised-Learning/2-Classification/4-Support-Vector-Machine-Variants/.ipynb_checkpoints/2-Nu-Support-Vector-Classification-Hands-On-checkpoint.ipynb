{
 "cells": [
  {
   "cell_type": "markdown",
   "id": "54911d21",
   "metadata": {
    "toc": true
   },
   "source": [
    "<h1>Table of Contents<span class=\"tocSkip\"></span></h1>\n",
    "<div class=\"toc\"><ul class=\"toc-item\"><li><span><a href=\"#Hands-On-Exercises\" data-toc-modified-id=\"Hands-On-Exercises-1\"><span class=\"toc-item-num\">1&nbsp;&nbsp;</span>Hands-On Exercises</a></span></li></ul></div>"
   ]
  },
  {
   "cell_type": "markdown",
   "id": "bf6da3ae",
   "metadata": {},
   "source": [
    "# Hands-On Exercises"
   ]
  },
  {
   "cell_type": "markdown",
   "id": "d9b31686",
   "metadata": {},
   "source": [
    "**Exercise 1: Iris Flower Classification**\n",
    "\n",
    "- **Dataset:** [Iris Dataset](https://archive.ics.uci.edu/ml/datasets/iris)\n",
    "- **Source:** UCI Machine Learning Repository\n",
    "- **Description:** The Iris dataset contains measurements of four features (sepal length, sepal width, petal length, petal width) for three species of iris flowers. The task is to classify the species based on these features.\n",
    "\n",
    "- **Action:**\n",
    "    1. Load the Iris dataset using scikit-learn.\n",
    "    2. Preprocess the data by splitting it into training and testing sets.\n",
    "    3. Implement a Nu-SVC model with a linear kernel.\n",
    "    4. Train the model on the training data.\n",
    "    5. Evaluate the model's performance using accuracy, precision, recall, and F1-score.\n",
    "    "
   ]
  },
  {
   "cell_type": "markdown",
   "id": "c8b4949d",
   "metadata": {},
   "source": [
    "**Exercise 2: Credit Card Fraud Detection**\n",
    "\n",
    "- **Dataset:** [Credit Card Fraud Detection](https://www.kaggle.com/mlg-ulb/creditcardfraud)\n",
    "- **Source:** Kaggle\n",
    "- **Description:** The dataset contains credit card transactions with features derived from a PCA transformation. The task is to detect fraudulent transactions.\n",
    "\n",
    "- **Action:**\n",
    "    1. Load the Credit Card Fraud Detection dataset.\n",
    "    2. Split the data into training and testing sets.\n",
    "    3. Implement a Nu-SVC model with an RBF kernel.\n",
    "    4. Train the model on the training data.\n",
    "    5. Evaluate the model's performance using appropriate metrics for imbalanced data."
   ]
  },
  {
   "cell_type": "markdown",
   "id": "8d27b7d2",
   "metadata": {},
   "source": [
    "**Exercise 3: Image Classification**\n",
    "\n",
    "- **Dataset:** [CIFAR-10](https://www.cs.toronto.edu/~kriz/cifar.html)\n",
    "- **Source:** CIFAR-10 Dataset\n",
    "- **Description:** The CIFAR-10 dataset consists of 60,000 32x32 color images in 10 different classes. It's a popular dataset for image classification tasks.\n",
    "\n",
    "- **Action:**\n",
    "    1. Load the CIFAR-10 dataset.\n",
    "    2. Preprocess the images and labels.\n",
    "    3. Implement a Nu-SVC model with a polynomial kernel.\n",
    "    4. Train the model on the training data.\n",
    "    5. Evaluate the model's performance in classifying images."
   ]
  },
  {
   "cell_type": "markdown",
   "id": "adf15e58",
   "metadata": {},
   "source": [
    "**Exercise 4: Email Spam Detection**\n",
    "\n",
    "- **Dataset:** [Spambase Data](https://archive.ics.uci.edu/ml/datasets/spambase)\n",
    "- **Source:** UCI Machine Learning Repository\n",
    "- **Description:** The Spambase dataset contains features extracted from spam and non-spam emails. The task is to classify emails as spam or non-spam.\n",
    "\n",
    "- **Action:**\n",
    "    1. Load the Spambase dataset.\n",
    "    2. Split the data into training and testing sets.\n",
    "    3. Implement a Nu-SVC model with a linear kernel.\n",
    "    4. Train the model on the training data.\n",
    "    5. Evaluate the model's performance in detecting email spam."
   ]
  },
  {
   "cell_type": "code",
   "execution_count": null,
   "id": "2594b9de",
   "metadata": {},
   "outputs": [],
   "source": []
  }
 ],
 "metadata": {
  "kernelspec": {
   "display_name": "Python 3 (ipykernel)",
   "language": "python",
   "name": "python3"
  },
  "language_info": {
   "codemirror_mode": {
    "name": "ipython",
    "version": 3
   },
   "file_extension": ".py",
   "mimetype": "text/x-python",
   "name": "python",
   "nbconvert_exporter": "python",
   "pygments_lexer": "ipython3",
   "version": "3.11.5"
  },
  "toc": {
   "base_numbering": 1,
   "nav_menu": {},
   "number_sections": true,
   "sideBar": true,
   "skip_h1_title": false,
   "title_cell": "Table of Contents",
   "title_sidebar": "Contents",
   "toc_cell": true,
   "toc_position": {},
   "toc_section_display": true,
   "toc_window_display": true
  }
 },
 "nbformat": 4,
 "nbformat_minor": 5
}
