{
 "cells": [
  {
   "cell_type": "markdown",
   "id": "219d14d9",
   "metadata": {
    "toc": true
   },
   "source": [
    "<h1>Table of Contents<span class=\"tocSkip\"></span></h1>\n",
    "<div class=\"toc\"><ul class=\"toc-item\"><li><span><a href=\"#Hands-On-Exercises\" data-toc-modified-id=\"Hands-On-Exercises-1\"><span class=\"toc-item-num\">1&nbsp;&nbsp;</span>Hands-On Exercises</a></span></li></ul></div>"
   ]
  },
  {
   "cell_type": "markdown",
   "id": "aa27f89f",
   "metadata": {},
   "source": [
    "# Hands-On Exercises"
   ]
  },
  {
   "cell_type": "markdown",
   "id": "b00c6573",
   "metadata": {},
   "source": [
    "**Exercise 1: Binary Classification with Breast Cancer Data**\n",
    "\n",
    "- **Dataset:** [Breast Cancer Wisconsin (Diagnostic) Data](https://archive.ics.uci.edu/ml/datasets/Breast+Cancer+Wisconsin+(Diagnostic))\n",
    "\n",
    "- **Source:** UCI Machine Learning Repository\n",
    "\n",
    "- **Description:** The dataset contains features computed from a digitized image of a fine needle aspirate of a breast mass. It's commonly used for breast cancer classification.\n",
    "\n",
    "- **Action:**\n",
    "    1. Load the dataset.\n",
    "    2. Preprocess the data, including feature scaling.\n",
    "    3. Split the dataset into training and testing sets.\n",
    "    4. Implement a K-NN classifier to predict the diagnosis (Malignant or Benign) of breast tumors.\n",
    "    5. Experiment with different values of K and distance metrics.\n",
    "    6. Evaluate the model's performance using metrics like accuracy, precision, recall, and the F1-score."
   ]
  },
  {
   "cell_type": "markdown",
   "id": "34c19def",
   "metadata": {},
   "source": [
    "**Exercise 2: Multi-Class Classification with Iris Data**\n",
    "\n",
    "- **Dataset:** [Iris Data](https://scikit-learn.org/stable/datasets/toy_dataset.html#iris-dataset)\n",
    "\n",
    "- **Source:** scikit-learn\n",
    "\n",
    "- **Description:** The Iris dataset contains measurements of iris flowers from three different species, making it suitable for multi-class classification.\n",
    "\n",
    "- **Action:**\n",
    "    1. Load the Iris dataset from scikit-learn.\n",
    "    2. Explore the dataset and its features.\n",
    "    3. Preprocess the data, including feature scaling.\n",
    "    4. Apply K-NN classification to classify iris flowers into one of the three species.\n",
    "    5. Experiment with different values of K and distance metrics.\n",
    "    6. Employ k-fold cross-validation to assess the model's performance.\n",
    "    7. Visualize the decision boundaries for different K values."
   ]
  },
  {
   "cell_type": "markdown",
   "id": "646361e7",
   "metadata": {},
   "source": [
    "**Exercise 3: Handwriting Recognition with MNIST Data**\n",
    "\n",
    "- **Dataset:** [MNIST Handwritten Digits](https://www.kaggle.com/c/digit-recognizer)\n",
    "\n",
    "- **Source:** Kaggle\n",
    "\n",
    "- **Description:** The MNIST dataset is a classic benchmark for handwritten digit recognition, with 28x28 pixel images of hand-drawn digits from 0 to 9.\n",
    "\n",
    "- **Action:**\n",
    "    1. Download the MNIST dataset from Kaggle.\n",
    "    2. Preprocess the image data for use with K-NN.\n",
    "    3. Split the data into training and testing sets.\n",
    "    4. Implement K-NN classification to recognize handwritten digits.\n",
    "    5. Experiment with different values of K and distance metrics.\n",
    "    6. Evaluate the model's accuracy in digit recognition."
   ]
  },
  {
   "cell_type": "markdown",
   "id": "0675c61f",
   "metadata": {},
   "source": [
    "**Exercise 4: Customer Segmentation with Mall Customer Data**\n",
    "\n",
    "- **Dataset:** [Mall Customer Segmentation Data](https://www.kaggle.com/vjchoudhary7/customer-segmentation-tutorial-in-python)\n",
    "\n",
    "- **Source:** Kaggle\n",
    "\n",
    "- **Description:** This dataset contains customer information such as age, income, and spending score. It's ideal for customer segmentation.\n",
    "\n",
    "- **Action:**\n",
    "    1. Download the Mall Customer Segmentation dataset from Kaggle.\n",
    "    2. Explore and visualize the dataset.\n",
    "    3. Preprocess the data, including feature scaling.\n",
    "    4. Apply K-NN clustering for customer segmentation into distinct groups.\n",
    "    5. Experiment with different values of K.\n",
    "    6. Visualize the customer segments and interpret the results."
   ]
  },
  {
   "cell_type": "code",
   "execution_count": null,
   "id": "d1ddacca",
   "metadata": {},
   "outputs": [],
   "source": []
  }
 ],
 "metadata": {
  "kernelspec": {
   "display_name": "Python 3 (ipykernel)",
   "language": "python",
   "name": "python3"
  },
  "language_info": {
   "codemirror_mode": {
    "name": "ipython",
    "version": 3
   },
   "file_extension": ".py",
   "mimetype": "text/x-python",
   "name": "python",
   "nbconvert_exporter": "python",
   "pygments_lexer": "ipython3",
   "version": "3.11.5"
  },
  "toc": {
   "base_numbering": 1,
   "nav_menu": {},
   "number_sections": true,
   "sideBar": true,
   "skip_h1_title": false,
   "title_cell": "Table of Contents",
   "title_sidebar": "Contents",
   "toc_cell": true,
   "toc_position": {},
   "toc_section_display": true,
   "toc_window_display": true
  }
 },
 "nbformat": 4,
 "nbformat_minor": 5
}
