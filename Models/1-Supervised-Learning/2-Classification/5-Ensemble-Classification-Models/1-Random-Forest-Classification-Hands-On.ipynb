{
 "cells": [
  {
   "cell_type": "markdown",
   "id": "92a3e2fa",
   "metadata": {
    "toc": true
   },
   "source": [
    "<h1>Table of Contents<span class=\"tocSkip\"></span></h1>\n",
    "<div class=\"toc\"><ul class=\"toc-item\"><li><span><a href=\"#Hands-On-Exercises\" data-toc-modified-id=\"Hands-On-Exercises-1\"><span class=\"toc-item-num\">1&nbsp;&nbsp;</span>Hands-On Exercises</a></span></li></ul></div>"
   ]
  },
  {
   "cell_type": "markdown",
   "id": "769e0ea9",
   "metadata": {},
   "source": [
    "# Hands-On Exercises"
   ]
  },
  {
   "cell_type": "markdown",
   "id": "00a45509",
   "metadata": {},
   "source": [
    "**Exercise 1: Iris Flower Classification**\n",
    "\n",
    "- **Dataset:** [Iris Dataset](https://archive.ics.uci.edu/ml/datasets/iris)\n",
    "- **Source:** UCI Machine Learning Repository\n",
    "- **Description:** The Iris dataset contains features of three different species of iris flowers. The goal is to classify these species based on sepal and petal measurements.\n",
    "- **Action:**\n",
    "    1. Load the Iris dataset and split it into training and testing sets.\n",
    "    2. Create a Random Forest Classifier and train it on the training data.\n",
    "    3. Evaluate the model's performance using accuracy, precision, recall, and F1-score.\n",
    "    4. Visualize feature importance using bar plots.\n",
    "    5. Experiment with different hyperparameter values to see how they affect model performance."
   ]
  },
  {
   "cell_type": "markdown",
   "id": "aeb0bd2f",
   "metadata": {},
   "source": [
    "**Exercise 2: Credit Card Fraud Detection**\n",
    "\n",
    "- **Dataset:** [Credit Card Fraud Detection](https://www.kaggle.com/mlg-ulb/creditcardfraud)\n",
    "- **Source:** Kaggle\n",
    "- **Description:** This dataset contains credit card transactions, including a mix of legitimate and fraudulent transactions. The goal is to detect fraudulent transactions.\n",
    "- **Action:**\n",
    "    1. Load and explore the credit card fraud dataset.\n",
    "    2. Preprocess the data, including handling imbalanced classes.\n",
    "    3. Implement a Random Forest Classifier for fraud detection.\n",
    "    4. Evaluate the model using various metrics like precision, recall, and ROC curve analysis.\n",
    "    5. Experiment with different techniques for hyperparameter tuning and compare their impact on model performance."
   ]
  },
  {
   "cell_type": "markdown",
   "id": "83e8799c",
   "metadata": {},
   "source": [
    "**Exercise 3: Customer Churn Prediction**\n",
    "\n",
    "- **Dataset:** [Telco Customer Churn](https://www.kaggle.com/blastchar/telco-customer-churn)\n",
    "- **Source:** Kaggle\n",
    "- **Description:** The Telco dataset contains customer data from a telecommunications company. The goal is to predict customer churn (whether a customer will leave the company).\n",
    "- **Action:**\n",
    "    1. Load and explore the Telco Customer Churn dataset.\n",
    "    2. Perform data preprocessing and feature engineering.\n",
    "    3. Build a Random Forest Classifier for customer churn prediction.\n",
    "    4. Evaluate the model using metrics like accuracy, precision, recall, and F1-score.\n",
    "    5. Investigate feature importance to understand factors influencing customer churn."
   ]
  },
  {
   "cell_type": "markdown",
   "id": "cffac171",
   "metadata": {},
   "source": [
    "**Exercise 4: Wine Quality Classification**\n",
    "\n",
    "- **Dataset:** [Wine Quality Data](https://archive.ics.uci.edu/ml/datasets/wine+quality)\n",
    "- **Source:** UCI Machine Learning Repository\n",
    "- **Description:** This dataset contains red and white wine samples with features like acidity, pH, and alcohol content. The task is to classify wine quality.\n",
    "- **Action:**\n",
    "    1. Load and combine the red and white wine datasets.\n",
    "    2. Explore the data and perform any necessary preprocessing.\n",
    "    3. Create a Random Forest Classifier to predict wine quality.\n",
    "    4. Use cross-validation to evaluate the model's performance.\n",
    "    5. Compare the results of Random Forest with other classification algorithms like Logistic Regression and Decision Trees."
   ]
  }
 ],
 "metadata": {
  "kernelspec": {
   "display_name": "Python 3 (ipykernel)",
   "language": "python",
   "name": "python3"
  },
  "language_info": {
   "codemirror_mode": {
    "name": "ipython",
    "version": 3
   },
   "file_extension": ".py",
   "mimetype": "text/x-python",
   "name": "python",
   "nbconvert_exporter": "python",
   "pygments_lexer": "ipython3",
   "version": "3.11.5"
  },
  "toc": {
   "base_numbering": 1,
   "nav_menu": {},
   "number_sections": true,
   "sideBar": true,
   "skip_h1_title": false,
   "title_cell": "Table of Contents",
   "title_sidebar": "Contents",
   "toc_cell": true,
   "toc_position": {},
   "toc_section_display": true,
   "toc_window_display": true
  }
 },
 "nbformat": 4,
 "nbformat_minor": 5
}
