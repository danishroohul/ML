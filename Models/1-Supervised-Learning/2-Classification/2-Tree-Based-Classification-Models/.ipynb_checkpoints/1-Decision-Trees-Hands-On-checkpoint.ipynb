{
 "cells": [
  {
   "cell_type": "markdown",
   "id": "72292836",
   "metadata": {
    "toc": true
   },
   "source": [
    "<h1>Table of Contents<span class=\"tocSkip\"></span></h1>\n",
    "<div class=\"toc\"><ul class=\"toc-item\"><li><span><a href=\"#Hands-On-Exercises\" data-toc-modified-id=\"Hands-On-Exercises-1\"><span class=\"toc-item-num\">1&nbsp;&nbsp;</span>Hands-On Exercises</a></span></li></ul></div>"
   ]
  },
  {
   "cell_type": "markdown",
   "id": "d98ebf4c",
   "metadata": {},
   "source": [
    "# Hands-On Exercises "
   ]
  },
  {
   "cell_type": "markdown",
   "id": "771e7713",
   "metadata": {},
   "source": [
    "**Exercise 1: Decision Tree for Classification**\n",
    "\n",
    "- **Dataset:** [Iris Dataset](https://scikit-learn.org/stable/modules/generated/sklearn.datasets.load_iris.html)\n",
    "- **Source:** scikit-learn (built-in dataset)\n",
    "- **Description:** In this exercise, you will use the Iris dataset, a well-known dataset for classification. Your task is to build a Decision Tree classifier to predict the species of iris flowers.\n",
    "\n",
    "    **Action:**\n",
    "    1. Load the Iris dataset using scikit-learn.\n",
    "    2. Preprocess the data (if needed).\n",
    "    3. Split the dataset into training and testing sets.\n",
    "    4. Create a Decision Tree classifier and train it on the training data.\n",
    "    5. Evaluate the model's performance using appropriate classification metrics (e.g., accuracy, confusion matrix, precision, recall).\n",
    "    6. Visualize the Decision Tree to understand its structure and feature importance."
   ]
  },
  {
   "cell_type": "markdown",
   "id": "4ac8f4e9",
   "metadata": {},
   "source": [
    "**Exercise 2: Overfitting and Pruning**\n",
    "\n",
    "- **Dataset:** [Titanic Dataset](https://www.kaggle.com/c/titanic/data)\n",
    "- **Source:** Kaggle (Titanic: Machine Learning from Disaster competition)\n",
    "- **Description:** In this exercise, you will explore overfitting and pruning with a Decision Tree classifier on the Titanic dataset. Your goal is to predict passenger survival based on various features.\n",
    "\n",
    "    **Action:**\n",
    "    1. Download the Titanic dataset from Kaggle.\n",
    "    2. Preprocess the data (e.g., handling missing values, encoding categorical features).\n",
    "    3. Split the dataset into training and testing sets.\n",
    "    4. Create a Decision Tree classifier and train it on the training data.\n",
    "    5. Evaluate the model's performance, noting any signs of overfitting.\n",
    "    6. Apply pruning techniques (e.g., limit tree depth) to prevent overfitting and re-evaluate the model.\n",
    "   "
   ]
  },
  {
   "cell_type": "markdown",
   "id": "0b7ac1c2",
   "metadata": {},
   "source": [
    "**Exercise 3: Feature Importance and Visualization**\n",
    "\n",
    "- **Dataset:** [Wine Quality Dataset](https://archive.ics.uci.edu/ml/datasets/Wine+Quality)\n",
    "- **Source:** UCI Machine Learning Repository\n",
    "- **Description:** This exercise focuses on feature importance and visualization with a Decision Tree classifier. You will work with the Wine Quality dataset to predict wine quality based on various features.\n",
    "\n",
    "    **Action:**\n",
    "    1. Download the Wine Quality dataset from the UCI Machine Learning Repository.\n",
    "    2. Preprocess the data (e.g., scaling, encoding).\n",
    "    3. Split the dataset into training and testing sets.\n",
    "    4. Create a Decision Tree classifier and train it on the training data.\n",
    "    5. Calculate feature importance scores and visualize them using a bar plot.\n",
    "    6. Interpret the results and gain insights into the most influential features."
   ]
  },
  {
   "cell_type": "code",
   "execution_count": null,
   "id": "da8686cb",
   "metadata": {},
   "outputs": [],
   "source": []
  }
 ],
 "metadata": {
  "kernelspec": {
   "display_name": "Python 3 (ipykernel)",
   "language": "python",
   "name": "python3"
  },
  "language_info": {
   "codemirror_mode": {
    "name": "ipython",
    "version": 3
   },
   "file_extension": ".py",
   "mimetype": "text/x-python",
   "name": "python",
   "nbconvert_exporter": "python",
   "pygments_lexer": "ipython3",
   "version": "3.11.5"
  },
  "toc": {
   "base_numbering": 1,
   "nav_menu": {},
   "number_sections": true,
   "sideBar": true,
   "skip_h1_title": false,
   "title_cell": "Table of Contents",
   "title_sidebar": "Contents",
   "toc_cell": true,
   "toc_position": {},
   "toc_section_display": true,
   "toc_window_display": true
  }
 },
 "nbformat": 4,
 "nbformat_minor": 5
}
