{
 "cells": [
  {
   "cell_type": "markdown",
   "id": "b857051b",
   "metadata": {
    "toc": true
   },
   "source": [
    "<h1>Table of Contents<span class=\"tocSkip\"></span></h1>\n",
    "<div class=\"toc\"><ul class=\"toc-item\"><li><span><a href=\"#Hands-On-Exercises\" data-toc-modified-id=\"Hands-On-Exercises-1\"><span class=\"toc-item-num\">1&nbsp;&nbsp;</span>Hands-On Exercises</a></span><ul class=\"toc-item\"><li><span><a href=\"#Exercise-1:-Bayesian-Linear-Regression-with-Simulated-Data\" data-toc-modified-id=\"Exercise-1:-Bayesian-Linear-Regression-with-Simulated-Data-1.1\"><span class=\"toc-item-num\">1.1&nbsp;&nbsp;</span>Exercise 1: Bayesian Linear Regression with Simulated Data</a></span></li><li><span><a href=\"#Exercise-2:-Bayesian-Linear-Regression-with-Real-Estate-Data\" data-toc-modified-id=\"Exercise-2:-Bayesian-Linear-Regression-with-Real-Estate-Data-1.2\"><span class=\"toc-item-num\">1.2&nbsp;&nbsp;</span>Exercise 2: Bayesian Linear Regression with Real Estate Data</a></span></li><li><span><a href=\"#Exercise-3:-Bayesian-Linear-Regression-with-Medical-Data\" data-toc-modified-id=\"Exercise-3:-Bayesian-Linear-Regression-with-Medical-Data-1.3\"><span class=\"toc-item-num\">1.3&nbsp;&nbsp;</span>Exercise 3: Bayesian Linear Regression with Medical Data</a></span></li><li><span><a href=\"#Exercise-4:-Bayesian-Time-Series-Regression-with-Stock-Price-Data\" data-toc-modified-id=\"Exercise-4:-Bayesian-Time-Series-Regression-with-Stock-Price-Data-1.4\"><span class=\"toc-item-num\">1.4&nbsp;&nbsp;</span>Exercise 4: Bayesian Time-Series Regression with Stock Price Data</a></span></li><li><span><a href=\"#Exercise-5:-Model-Comparison---Bayesian-vs.-Frequentist\" data-toc-modified-id=\"Exercise-5:-Model-Comparison---Bayesian-vs.-Frequentist-1.5\"><span class=\"toc-item-num\">1.5&nbsp;&nbsp;</span>Exercise 5: Model Comparison - Bayesian vs. Frequentist</a></span></li><li><span><a href=\"#Exercise-6:-Probabilistic-Predictive-Modeling-with-Housing-Price-Data\" data-toc-modified-id=\"Exercise-6:-Probabilistic-Predictive-Modeling-with-Housing-Price-Data-1.6\"><span class=\"toc-item-num\">1.6&nbsp;&nbsp;</span>Exercise 6: Probabilistic Predictive Modeling with Housing Price Data</a></span></li></ul></li></ul></div>"
   ]
  },
  {
   "cell_type": "markdown",
   "id": "f62963e4",
   "metadata": {},
   "source": [
    "# Hands-On Exercises"
   ]
  },
  {
   "cell_type": "markdown",
   "id": "ffdae752",
   "metadata": {},
   "source": [
    "In this section, you have the opportunity to practice Bayesian Linear Regression with real data. We've prepared a set of exercises for you to work on. Feel free to use your own datasets or use the provided dataset links/sources to perform the exercises."
   ]
  },
  {
   "cell_type": "markdown",
   "id": "df48726e",
   "metadata": {},
   "source": [
    "## Exercise 1: Bayesian Linear Regression with Simulated Data"
   ]
  },
  {
   "cell_type": "markdown",
   "id": "0ab277f6",
   "metadata": {},
   "source": [
    "**Dataset Source:** Simulated Data\n",
    "\n",
    "**Description:** In this exercise, you'll work with simulated data to perform Bayesian Linear Regression. Simulated data allows us to control the underlying data-generating process."
   ]
  },
  {
   "cell_type": "markdown",
   "id": "01c458dd",
   "metadata": {},
   "source": [
    "## Exercise 2: Bayesian Linear Regression with Real Estate Data"
   ]
  },
  {
   "cell_type": "markdown",
   "id": "86e1c109",
   "metadata": {},
   "source": [
    "**Dataset Source:** [Real Estate Data](https://archive.ics.uci.edu/ml/datasets/Real+estate+valuation+data+set)\n",
    "\n",
    "**Description:** In this exercise, you'll apply Bayesian Linear Regression to real estate data. The dataset contains various features such as house age, distance to the nearest MRT station, and number of convenience stores. You'll predict house price, evaluate the model, and calculate credible intervals."
   ]
  },
  {
   "cell_type": "markdown",
   "id": "d12c7730",
   "metadata": {},
   "source": [
    "## Exercise 3: Bayesian Linear Regression with Medical Data"
   ]
  },
  {
   "cell_type": "markdown",
   "id": "807d5bea",
   "metadata": {},
   "source": [
    "**Dataset Source:** [Medical Cost Personal Datasets](https://www.kaggle.com/mirichoi0218/insurance)\n",
    "\n",
    "**Description:** In this exercise, you'll perform Bayesian Linear Regression on a dataset related to medical costs. The dataset includes information about age, BMI, smoking habits, and medical costs. You'll predict medical costs, assess the model's performance, and calculate credible intervals."
   ]
  },
  {
   "cell_type": "markdown",
   "id": "1132aba0",
   "metadata": {},
   "source": [
    "## Exercise 4: Bayesian Time-Series Regression with Stock Price Data"
   ]
  },
  {
   "cell_type": "markdown",
   "id": "5dc0c41a",
   "metadata": {},
   "source": [
    "**Dataset Source:** [S&P 500 Stock Price Data](https://finance.yahoo.com/quote/%5EGSPC/history/)\n",
    "\n",
    "**Description:** Time-series data presents unique modeling challenges. In this exercise, you'll apply Bayesian Time-Series Regression to historical stock price data of the S&P 500. You'll explore how Bayesian regression handles time-dependent data and understand its value in making predictions with uncertainty."
   ]
  },
  {
   "cell_type": "markdown",
   "id": "a9fc7892",
   "metadata": {},
   "source": [
    "## Exercise 5: Model Comparison - Bayesian vs. Frequentist"
   ]
  },
  {
   "cell_type": "markdown",
   "id": "965873a9",
   "metadata": {},
   "source": [
    "**Dataset Source:** Simulated Data\n",
    "\n",
    "**Description:** In this exercise, you'll use simulated data to compare the performance of Bayesian Linear Regression with traditional Frequentist Linear Regression (OLS). You'll assess how both methods handle data uncertainty and choose the best model for a given dataset."
   ]
  },
  {
   "cell_type": "markdown",
   "id": "a0fbbd11",
   "metadata": {},
   "source": [
    "## Exercise 6: Probabilistic Predictive Modeling with Housing Price Data"
   ]
  },
  {
   "cell_type": "markdown",
   "id": "84a28018",
   "metadata": {},
   "source": [
    "**Dataset Source:** [Kaggle House Prices Dataset](https://www.kaggle.com/c/house-prices-advanced-regression-techniques/data)\n",
    "\n",
    "**Description:** In this exercise, you'll dive into probabilistic predictive modeling. Apply Bayesian Linear Regression to the Kaggle House Prices dataset to predict house prices with uncertainty estimates. Visualize the probabilistic predictions, including credible intervals, and understand the importance of these predictions in real-world decision-making."
   ]
  }
 ],
 "metadata": {
  "kernelspec": {
   "display_name": "Python 3 (ipykernel)",
   "language": "python",
   "name": "python3"
  },
  "language_info": {
   "codemirror_mode": {
    "name": "ipython",
    "version": 3
   },
   "file_extension": ".py",
   "mimetype": "text/x-python",
   "name": "python",
   "nbconvert_exporter": "python",
   "pygments_lexer": "ipython3",
   "version": "3.11.5"
  },
  "toc": {
   "base_numbering": 1,
   "nav_menu": {},
   "number_sections": true,
   "sideBar": true,
   "skip_h1_title": false,
   "title_cell": "Table of Contents",
   "title_sidebar": "Contents",
   "toc_cell": true,
   "toc_position": {
    "height": "calc(100% - 180px)",
    "left": "10px",
    "top": "150px",
    "width": "255.594px"
   },
   "toc_section_display": true,
   "toc_window_display": true
  }
 },
 "nbformat": 4,
 "nbformat_minor": 5
}
