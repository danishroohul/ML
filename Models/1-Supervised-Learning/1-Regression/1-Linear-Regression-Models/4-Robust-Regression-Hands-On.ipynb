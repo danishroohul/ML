{
 "cells": [
  {
   "cell_type": "markdown",
   "id": "8472cdfb",
   "metadata": {
    "toc": true
   },
   "source": [
    "<h1>Table of Contents<span class=\"tocSkip\"></span></h1>\n",
    "<div class=\"toc\"><ul class=\"toc-item\"><li><span><a href=\"#Hands-On-Exercises\" data-toc-modified-id=\"Hands-On-Exercises-1\"><span class=\"toc-item-num\">1&nbsp;&nbsp;</span>Hands-On Exercises</a></span><ul class=\"toc-item\"><li><span><a href=\"#Exercise-1:-Predictive-Modeling-with-Student-Performance-Data\" data-toc-modified-id=\"Exercise-1:-Predictive-Modeling-with-Student-Performance-Data-1.1\"><span class=\"toc-item-num\">1.1&nbsp;&nbsp;</span>Exercise 1: Predictive Modeling with Student Performance Data</a></span></li><li><span><a href=\"#Exercise-2:-Robust-Regression-in-Finance\" data-toc-modified-id=\"Exercise-2:-Robust-Regression-in-Finance-1.2\"><span class=\"toc-item-num\">1.2&nbsp;&nbsp;</span>Exercise 2: Robust Regression in Finance</a></span></li><li><span><a href=\"#Exercise-3:-Healthcare-Data-Analysis\" data-toc-modified-id=\"Exercise-3:-Healthcare-Data-Analysis-1.3\"><span class=\"toc-item-num\">1.3&nbsp;&nbsp;</span>Exercise 3: Healthcare Data Analysis</a></span></li><li><span><a href=\"#Exercise-4:-Climate-Change-Impact-Analysis\" data-toc-modified-id=\"Exercise-4:-Climate-Change-Impact-Analysis-1.4\"><span class=\"toc-item-num\">1.4&nbsp;&nbsp;</span>Exercise 4: Climate Change Impact Analysis</a></span></li><li><span><a href=\"#Exercise-5:-Marketing-Campaign-Effectiveness\" data-toc-modified-id=\"Exercise-5:-Marketing-Campaign-Effectiveness-1.5\"><span class=\"toc-item-num\">1.5&nbsp;&nbsp;</span>Exercise 5: Marketing Campaign Effectiveness</a></span></li><li><span><a href=\"#Exercise-6:-Quality-Control-in-Manufacturing\" data-toc-modified-id=\"Exercise-6:-Quality-Control-in-Manufacturing-1.6\"><span class=\"toc-item-num\">1.6&nbsp;&nbsp;</span>Exercise 6: Quality Control in Manufacturing</a></span></li></ul></li></ul></div>"
   ]
  },
  {
   "cell_type": "markdown",
   "id": "82b8de29",
   "metadata": {},
   "source": [
    "# Hands-On Exercises"
   ]
  },
  {
   "cell_type": "markdown",
   "id": "bb9c7f66",
   "metadata": {},
   "source": [
    "## Exercise 1: Predictive Modeling with Student Performance Data"
   ]
  },
  {
   "cell_type": "markdown",
   "id": "01d28add",
   "metadata": {},
   "source": [
    "**Dataset Source:** [Student Performance Data](https://archive.ics.uci.edu/ml/datasets/student+performance)\n",
    "\n",
    "**Description:** The dataset contains information about students, including their demographics, family background, and academic performance. Your task is to build a predictive model to estimate a student's final grade based on the provided features. This exercise will test your knowledge of data preprocessing, model selection, and evaluation techniques."
   ]
  },
  {
   "cell_type": "markdown",
   "id": "a8c4a9f5",
   "metadata": {},
   "source": [
    "## Exercise 2: Robust Regression in Finance"
   ]
  },
  {
   "cell_type": "markdown",
   "id": "33c8d398",
   "metadata": {},
   "source": [
    "**Dataset Source:** [Finance Data](https://www.kaggle.com/camnugent/sandp500)\n",
    "\n",
    "**Description:** Use a dataset of historical S&P 500 stock prices. Apply Robust Regression techniques to model the relationship between a stock's price and selected factors (e.g., trading volume, economic indicators). Evaluate your model's robustness to financial outliers and market events."
   ]
  },
  {
   "cell_type": "markdown",
   "id": "0111133f",
   "metadata": {},
   "source": [
    "## Exercise 3: Healthcare Data Analysis"
   ]
  },
  {
   "cell_type": "markdown",
   "id": "1d216797",
   "metadata": {},
   "source": [
    "**Dataset Source:** [Healthcare Data](https://archive.ics.uci.edu/ml/datasets/heart+disease)\n",
    "\n",
    "**Description:** Analyze a dataset related to heart disease and perform Robust Regression to identify factors influencing the risk of heart disease. This exercise will test your ability to handle healthcare data, model relationships, and interpret results."
   ]
  },
  {
   "cell_type": "markdown",
   "id": "4500b05f",
   "metadata": {},
   "source": [
    "## Exercise 4: Climate Change Impact Analysis"
   ]
  },
  {
   "cell_type": "markdown",
   "id": "5bdde6b2",
   "metadata": {},
   "source": [
    "**Dataset Source:** [Climate Data](https://datahub.io/core/global-temp#data)\n",
    "\n",
    "**Description:** Utilize historical climate data to assess the impact of temperature changes on sea levels. Apply Robust Regression to model the relationship between temperature and sea level rise. Investigate the robustness of your model to extreme weather events."
   ]
  },
  {
   "cell_type": "markdown",
   "id": "79631158",
   "metadata": {},
   "source": [
    "## Exercise 5: Marketing Campaign Effectiveness"
   ]
  },
  {
   "cell_type": "markdown",
   "id": "7a370ea9",
   "metadata": {},
   "source": [
    "**Dataset Source:** [Marketing Data](https://www.kaggle.com/davinwijaya/customer-retention)\n",
    "\n",
    "**Description:** Analyze a marketing dataset that tracks customer engagement with various campaigns. Use Robust Regression to assess the effectiveness of different campaigns on customer retention. Evaluate how Robust Regression handles outliers in this marketing context."
   ]
  },
  {
   "cell_type": "markdown",
   "id": "5efcc0b5",
   "metadata": {},
   "source": [
    "## Exercise 6: Quality Control in Manufacturing"
   ]
  },
  {
   "cell_type": "markdown",
   "id": "bc3e1f8b",
   "metadata": {},
   "source": [
    "**Dataset Source:** [Manufacturing Data](https://archive.ics.uci.edu/ml/datasets/Quality+control+chart)\n",
    "\n",
    "**Description:** Explore a quality control dataset from a manufacturing process. Apply Robust Regression to model the relationship between production parameters and product quality. Assess the robustness of your model in the presence of outlier data points."
   ]
  },
  {
   "cell_type": "code",
   "execution_count": null,
   "id": "3e612dd8",
   "metadata": {},
   "outputs": [],
   "source": []
  }
 ],
 "metadata": {
  "kernelspec": {
   "display_name": "Python 3 (ipykernel)",
   "language": "python",
   "name": "python3"
  },
  "language_info": {
   "codemirror_mode": {
    "name": "ipython",
    "version": 3
   },
   "file_extension": ".py",
   "mimetype": "text/x-python",
   "name": "python",
   "nbconvert_exporter": "python",
   "pygments_lexer": "ipython3",
   "version": "3.11.5"
  },
  "toc": {
   "base_numbering": 1,
   "nav_menu": {},
   "number_sections": true,
   "sideBar": true,
   "skip_h1_title": false,
   "title_cell": "Table of Contents",
   "title_sidebar": "Contents",
   "toc_cell": true,
   "toc_position": {},
   "toc_section_display": true,
   "toc_window_display": true
  }
 },
 "nbformat": 4,
 "nbformat_minor": 5
}
