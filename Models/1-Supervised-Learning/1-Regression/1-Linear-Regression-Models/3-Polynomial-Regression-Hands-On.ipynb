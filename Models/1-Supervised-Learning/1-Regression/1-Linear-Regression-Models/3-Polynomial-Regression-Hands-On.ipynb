{
 "cells": [
  {
   "cell_type": "markdown",
   "id": "c9bb9ea7",
   "metadata": {
    "toc": true
   },
   "source": [
    "<h1>Table of Contents<span class=\"tocSkip\"></span></h1>\n",
    "<div class=\"toc\"><ul class=\"toc-item\"><li><span><a href=\"#Hands-On-Exercises\" data-toc-modified-id=\"Hands-On-Exercises-1\"><span class=\"toc-item-num\">1&nbsp;&nbsp;</span>Hands-On Exercises</a></span><ul class=\"toc-item\"><li><span><a href=\"#Exercise-1:-Predicting-House-Prices\" data-toc-modified-id=\"Exercise-1:-Predicting-House-Prices-1.1\"><span class=\"toc-item-num\">1.1&nbsp;&nbsp;</span>Exercise 1: Predicting House Prices</a></span></li><li><span><a href=\"#Exercise-2:-Energy-Consumption-Forecasting\" data-toc-modified-id=\"Exercise-2:-Energy-Consumption-Forecasting-1.2\"><span class=\"toc-item-num\">1.2&nbsp;&nbsp;</span>Exercise 2: Energy Consumption Forecasting</a></span></li><li><span><a href=\"#Exercise-3:-Sales-Forecasting\" data-toc-modified-id=\"Exercise-3:-Sales-Forecasting-1.3\"><span class=\"toc-item-num\">1.3&nbsp;&nbsp;</span>Exercise 3: Sales Forecasting</a></span></li></ul></li></ul></div>"
   ]
  },
  {
   "cell_type": "markdown",
   "id": "f62963e4",
   "metadata": {},
   "source": [
    "# Hands-On Exercises"
   ]
  },
  {
   "cell_type": "markdown",
   "id": "ffdae752",
   "metadata": {},
   "source": [
    "In this section, you have the opportunity to practice Polynomial Regression with real data. We've prepared a set of exercises for you to work on. Feel free to use your own datasets or use the provided dataset links/sources to perform the exercises."
   ]
  },
  {
   "cell_type": "markdown",
   "id": "5fde46cf",
   "metadata": {},
   "source": [
    "## Exercise 1: Predicting House Prices\n",
    "\n",
    "**Dataset Source:** [Kaggle House Prices Dataset](https://www.kaggle.com/c/house-prices-advanced-regression-techniques)\n",
    "\n",
    "**Description:** Use the Kaggle House Prices dataset to predict house prices using Polynomial Regression. Explore the dataset, preprocess the data, and build a Polynomial Regression model. Evaluate the model's performance and visualize the results."
   ]
  },
  {
   "cell_type": "markdown",
   "id": "c795028e",
   "metadata": {},
   "source": [
    "## Exercise 2: Energy Consumption Forecasting\n",
    "\n",
    "**Dataset Source:** [UCI Machine Learning Repository - Appliances Energy Prediction Data](https://archive.ics.uci.edu/ml/datasets/Appliances+energy+prediction)\n",
    "\n",
    "**Description:** Employ Polynomial Regression to forecast energy consumption in a residential setting. Download the dataset from the provided link, preprocess the data, and apply Polynomial Regression. Assess the model's accuracy and generate visualizations to display the predictions."
   ]
  },
  {
   "cell_type": "markdown",
   "id": "052b129e",
   "metadata": {},
   "source": [
    "## Exercise 3: Sales Forecasting\n",
    "\n",
    "**Dataset Source:** [Sales Data for Retail Analysis](https://www.kaggle.com/c/rossmann-store-sales/data)\n",
    "\n",
    "**Description:** Apply Polynomial Regression to forecast sales in a retail business. Utilize the sales data for retail analysis, perform data preprocessing, and build a Polynomial Regression model. Evaluate the model's performance and create visualizations to interpret the predictions."
   ]
  }
 ],
 "metadata": {
  "kernelspec": {
   "display_name": "Python 3 (ipykernel)",
   "language": "python",
   "name": "python3"
  },
  "language_info": {
   "codemirror_mode": {
    "name": "ipython",
    "version": 3
   },
   "file_extension": ".py",
   "mimetype": "text/x-python",
   "name": "python",
   "nbconvert_exporter": "python",
   "pygments_lexer": "ipython3",
   "version": "3.11.5"
  },
  "toc": {
   "base_numbering": 1,
   "nav_menu": {},
   "number_sections": true,
   "sideBar": true,
   "skip_h1_title": false,
   "title_cell": "Table of Contents",
   "title_sidebar": "Contents",
   "toc_cell": true,
   "toc_position": {},
   "toc_section_display": true,
   "toc_window_display": true
  }
 },
 "nbformat": 4,
 "nbformat_minor": 5
}
