{
 "cells": [
  {
   "cell_type": "markdown",
   "id": "a73771f7",
   "metadata": {
    "toc": true
   },
   "source": [
    "<h1>Table of Contents<span class=\"tocSkip\"></span></h1>\n",
    "<div class=\"toc\"><ul class=\"toc-item\"><li><span><a href=\"#Hands-On-Exercise\" data-toc-modified-id=\"Hands-On-Exercise-1\"><span class=\"toc-item-num\">1&nbsp;&nbsp;</span>Hands-On Exercise</a></span><ul class=\"toc-item\"><li><span><a href=\"#Exercise-1:-Forward-Selection\" data-toc-modified-id=\"Exercise-1:-Forward-Selection-1.1\"><span class=\"toc-item-num\">1.1&nbsp;&nbsp;</span>Exercise 1: Forward Selection</a></span></li><li><span><a href=\"#Exercise-2:-Backward-Elimination\" data-toc-modified-id=\"Exercise-2:-Backward-Elimination-1.2\"><span class=\"toc-item-num\">1.2&nbsp;&nbsp;</span>Exercise 2: Backward Elimination</a></span></li><li><span><a href=\"#Exercise-3:-Stepwise-Selection\" data-toc-modified-id=\"Exercise-3:-Stepwise-Selection-1.3\"><span class=\"toc-item-num\">1.3&nbsp;&nbsp;</span>Exercise 3: Stepwise Selection</a></span></li></ul></li></ul></div>"
   ]
  },
  {
   "cell_type": "markdown",
   "id": "58e73a70",
   "metadata": {},
   "source": [
    "# Hands-On Exercise"
   ]
  },
  {
   "cell_type": "markdown",
   "id": "23239f2e",
   "metadata": {},
   "source": [
    "## Exercise 1: Forward Selection"
   ]
  },
  {
   "cell_type": "markdown",
   "id": "2ec243c3",
   "metadata": {},
   "source": [
    "**Dataset:** [Iris Dataset](https://archive.ics.uci.edu/ml/datasets/iris)\n",
    "\n",
    "- **Source:** UCI Machine Learning Repository\n",
    "- **Description:** This classic dataset contains measurements of various iris flowers' sepal and petal dimensions, along with species labels. You can perform forward selection to predict the species based on these features.\n",
    "- **Action:** Implement forward selection for species prediction.\n",
    "\n",
    "**Dataset:** [House Prices: Advanced Regression Techniques](https://www.kaggle.com/c/house-prices-advanced-regression-techniques)\n",
    "\n",
    "- **Source:** Kaggle\n",
    "- **Description:** This dataset consists of various features related to residential properties. You can use forward selection to predict house prices based on different attributes.\n",
    "- **Action:** Apply forward selection for house price prediction."
   ]
  },
  {
   "cell_type": "markdown",
   "id": "2db07735",
   "metadata": {},
   "source": [
    "## Exercise 2: Backward Elimination"
   ]
  },
  {
   "cell_type": "markdown",
   "id": "ee1eed00",
   "metadata": {},
   "source": [
    "**Dataset:** [Wine Quality Dataset](https://archive.ics.uci.edu/ml/datasets/wine+quality)\n",
    "\n",
    "- **Source:** UCI Machine Learning Repository\n",
    "- **Description:** This dataset includes various physicochemical measurements of wine and quality ratings. Implement backward elimination to simplify a model for predicting wine quality.\n",
    "- **Action:** Perform backward elimination for wine quality prediction.\n",
    "\n",
    "**Dataset:** [Diabetes Dataset](https://www.kaggle.com/uciml/pima-indians-diabetes-database)\n",
    "\n",
    "- **Source:** Kaggle\n",
    "- **Description:** This dataset contains various health-related measurements and a binary outcome indicating diabetes. Use backward elimination to create a model for predicting diabetes.\n",
    "- **Action:** Utilize backward elimination for diabetes prediction."
   ]
  },
  {
   "cell_type": "markdown",
   "id": "69fb976e",
   "metadata": {},
   "source": [
    "## Exercise 3: Stepwise Selection"
   ]
  },
  {
   "cell_type": "markdown",
   "id": "6adbbba4",
   "metadata": {},
   "source": [
    "**Dataset:** [Boston Housing Dataset](https://archive.ics.uci.edu/ml/machine-learning-databases/housing/)\n",
    "\n",
    "- **Source:** UCI Machine Learning Repository\n",
    "- **Description:** This dataset contains housing data for various suburbs in Boston. You can perform stepwise selection to predict house prices based on a range of features.\n",
    "- **Action:** Apply stepwise selection for house price prediction.\n",
    "\n",
    "**Dataset:** [Employee Attrition Dataset](https://www.kaggle.com/pavansubhasht/ibm-hr-analytics-attrition-dataset)\n",
    "\n",
    "- **Source:** Kaggle\n",
    "- **Description:** This dataset comprises employee-related attributes, including job roles, satisfaction, and attrition status. Apply stepwise selection to understand and predict employee attrition.\n",
    "- **Action:** Utilize stepwise selection for employee attrition prediction."
   ]
  }
 ],
 "metadata": {
  "kernelspec": {
   "display_name": "Python 3 (ipykernel)",
   "language": "python",
   "name": "python3"
  },
  "language_info": {
   "codemirror_mode": {
    "name": "ipython",
    "version": 3
   },
   "file_extension": ".py",
   "mimetype": "text/x-python",
   "name": "python",
   "nbconvert_exporter": "python",
   "pygments_lexer": "ipython3",
   "version": "3.11.5"
  },
  "toc": {
   "base_numbering": 1,
   "nav_menu": {},
   "number_sections": true,
   "sideBar": true,
   "skip_h1_title": false,
   "title_cell": "Table of Contents",
   "title_sidebar": "Contents",
   "toc_cell": true,
   "toc_position": {},
   "toc_section_display": true,
   "toc_window_display": true
  }
 },
 "nbformat": 4,
 "nbformat_minor": 5
}
