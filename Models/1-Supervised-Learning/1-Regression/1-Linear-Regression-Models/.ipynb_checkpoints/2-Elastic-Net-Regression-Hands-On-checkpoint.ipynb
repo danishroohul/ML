{
 "cells": [
  {
   "cell_type": "markdown",
   "id": "6cf1a372",
   "metadata": {
    "toc": true
   },
   "source": [
    "<h1>Table of Contents<span class=\"tocSkip\"></span></h1>\n",
    "<div class=\"toc\"><ul class=\"toc-item\"><li><span><a href=\"#Hands-On-Exercises\" data-toc-modified-id=\"Hands-On-Exercises-1\"><span class=\"toc-item-num\">1&nbsp;&nbsp;</span>Hands-On Exercises</a></span><ul class=\"toc-item\"><li><span><a href=\"#Dataset-1:-Diabetes-Dataset\" data-toc-modified-id=\"Dataset-1:-Diabetes-Dataset-1.1\"><span class=\"toc-item-num\">1.1&nbsp;&nbsp;</span>Dataset 1: Diabetes Dataset</a></span></li><li><span><a href=\"#Dataset-2:-Concrete-Compressive-Strength-Dataset\" data-toc-modified-id=\"Dataset-2:-Concrete-Compressive-Strength-Dataset-1.2\"><span class=\"toc-item-num\">1.2&nbsp;&nbsp;</span>Dataset 2: Concrete Compressive Strength Dataset</a></span></li></ul></li></ul></div>"
   ]
  },
  {
   "cell_type": "markdown",
   "id": "1992d4c1",
   "metadata": {},
   "source": [
    "# Hands-On Exercises"
   ]
  },
  {
   "cell_type": "markdown",
   "id": "2eb766c8",
   "metadata": {},
   "source": [
    "## Dataset 1: Diabetes Dataset"
   ]
  },
  {
   "cell_type": "markdown",
   "id": "b19d31f5",
   "metadata": {},
   "source": [
    "**Dataset Source 1:** [Diabetes Dataset](https://scikit-learn.org/stable/datasets/index.html#diabetes-dataset)\n",
    "\n",
    "**Description:** Explore the Diabetes dataset from Scikit-Learn and perform regression analysis. Apply Elastic Net Regression to predict diabetes progression. Preprocess the data, build an Elastic Net Regression model, and evaluate its accuracy. Visualize the results."
   ]
  },
  {
   "cell_type": "markdown",
   "id": "bbdbe5f4",
   "metadata": {},
   "source": [
    "## Dataset 2: Concrete Compressive Strength Dataset"
   ]
  },
  {
   "cell_type": "markdown",
   "id": "284daf32",
   "metadata": {},
   "source": [
    "**Dataset Source 2:** [Concrete Compressive Strength Dataset](https://archive.ics.uci.edu/ml/datasets/concrete+compressive+strength)\n",
    "\n",
    "**Description:** Utilize Elastic Net Regression to predict the compressive strength of concrete. Download the Concrete Compressive Strength dataset from the provided link, preprocess the data, and build an Elastic Net Regression model. Assess the model's performance and create visualizations to interpret the predictions."
   ]
  },
  {
   "cell_type": "code",
   "execution_count": null,
   "id": "4f6f771d",
   "metadata": {},
   "outputs": [],
   "source": []
  }
 ],
 "metadata": {
  "kernelspec": {
   "display_name": "Python 3 (ipykernel)",
   "language": "python",
   "name": "python3"
  },
  "language_info": {
   "codemirror_mode": {
    "name": "ipython",
    "version": 3
   },
   "file_extension": ".py",
   "mimetype": "text/x-python",
   "name": "python",
   "nbconvert_exporter": "python",
   "pygments_lexer": "ipython3",
   "version": "3.11.5"
  },
  "toc": {
   "base_numbering": 1,
   "nav_menu": {},
   "number_sections": true,
   "sideBar": true,
   "skip_h1_title": false,
   "title_cell": "Table of Contents",
   "title_sidebar": "Contents",
   "toc_cell": true,
   "toc_position": {},
   "toc_section_display": true,
   "toc_window_display": false
  }
 },
 "nbformat": 4,
 "nbformat_minor": 5
}
