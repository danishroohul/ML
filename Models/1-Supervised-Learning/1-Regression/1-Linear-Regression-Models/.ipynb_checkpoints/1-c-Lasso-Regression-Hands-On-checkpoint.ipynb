{
 "cells": [
  {
   "cell_type": "markdown",
   "id": "2b1bad9b",
   "metadata": {
    "toc": true
   },
   "source": [
    "<h1>Table of Contents<span class=\"tocSkip\"></span></h1>\n",
    "<div class=\"toc\"><ul class=\"toc-item\"><li><span><a href=\"#Hands-On-Exercises\" data-toc-modified-id=\"Hands-On-Exercises-1\"><span class=\"toc-item-num\">1&nbsp;&nbsp;</span>Hands-On Exercises</a></span><ul class=\"toc-item\"><li><span><a href=\"#Dataset-1:-California-Housing-Prices-Dataset\" data-toc-modified-id=\"Dataset-1:-California-Housing-Prices-Dataset-1.1\"><span class=\"toc-item-num\">1.1&nbsp;&nbsp;</span>Dataset 1: California Housing Prices Dataset</a></span></li><li><span><a href=\"#Dataset-2:-Credit-Approval-Dataset\" data-toc-modified-id=\"Dataset-2:-Credit-Approval-Dataset-1.2\"><span class=\"toc-item-num\">1.2&nbsp;&nbsp;</span>Dataset 2: Credit Approval Dataset</a></span></li></ul></li></ul></div>"
   ]
  },
  {
   "cell_type": "markdown",
   "id": "6d5e363d",
   "metadata": {},
   "source": [
    "# Hands-On Exercises"
   ]
  },
  {
   "cell_type": "markdown",
   "id": "fc30c025",
   "metadata": {},
   "source": [
    "## Dataset 1: California Housing Prices Dataset"
   ]
  },
  {
   "cell_type": "markdown",
   "id": "5adf0050",
   "metadata": {},
   "source": [
    "**Dataset Source 1:** [California Housing Prices Dataset](https://scikit-learn.org/stable/datasets/index.html#california-housing-dataset)\n",
    "\n",
    "**Description:** Use the California Housing Prices dataset to practice Lasso Regression. Predict housing prices in California by exploring the dataset, preprocessing the data, and building a Lasso Regression model. Evaluate the model's accuracy and generate visualizations to interpret the predictions."
   ]
  },
  {
   "cell_type": "markdown",
   "id": "76ff4794",
   "metadata": {},
   "source": [
    "## Dataset 2: Credit Approval Dataset"
   ]
  },
  {
   "cell_type": "markdown",
   "id": "80459ef1",
   "metadata": {},
   "source": [
    "**Dataset Source 2:** [Credit Approval Dataset](https://archive.ics.uci.edu/ml/datasets/credit+approval)\n",
    "\n",
    "**Description:** Apply Lasso Regression to predict credit approval decisions. Download the Credit Approval dataset from the provided link, preprocess the data, and build a Lasso Regression model. Assess the model's performance and create visualizations to interpret the predictions."
   ]
  },
  {
   "cell_type": "code",
   "execution_count": null,
   "id": "72aa83e5",
   "metadata": {},
   "outputs": [],
   "source": []
  }
 ],
 "metadata": {
  "kernelspec": {
   "display_name": "Python 3 (ipykernel)",
   "language": "python",
   "name": "python3"
  },
  "language_info": {
   "codemirror_mode": {
    "name": "ipython",
    "version": 3
   },
   "file_extension": ".py",
   "mimetype": "text/x-python",
   "name": "python",
   "nbconvert_exporter": "python",
   "pygments_lexer": "ipython3",
   "version": "3.11.5"
  },
  "toc": {
   "base_numbering": 1,
   "nav_menu": {},
   "number_sections": true,
   "sideBar": true,
   "skip_h1_title": false,
   "title_cell": "Table of Contents",
   "title_sidebar": "Contents",
   "toc_cell": true,
   "toc_position": {
    "height": "calc(100% - 180px)",
    "left": "10px",
    "top": "150px",
    "width": "255.594px"
   },
   "toc_section_display": true,
   "toc_window_display": true
  }
 },
 "nbformat": 4,
 "nbformat_minor": 5
}
