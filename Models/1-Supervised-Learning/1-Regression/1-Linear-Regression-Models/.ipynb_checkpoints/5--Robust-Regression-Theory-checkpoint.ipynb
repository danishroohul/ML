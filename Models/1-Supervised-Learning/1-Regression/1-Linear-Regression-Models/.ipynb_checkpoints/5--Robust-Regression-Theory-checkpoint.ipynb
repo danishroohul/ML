{
 "cells": [
  {
   "cell_type": "markdown",
   "id": "35925f00",
   "metadata": {
    "toc": true
   },
   "source": [
    "<h1>Table of Contents<span class=\"tocSkip\"></span></h1>\n",
    "<div class=\"toc\"><ul class=\"toc-item\"><li><span><a href=\"#Robust-Regression:-Introduction-and-Background\" data-toc-modified-id=\"Robust-Regression:-Introduction-and-Background-1\"><span class=\"toc-item-num\">1&nbsp;&nbsp;</span>Robust Regression: Introduction and Background</a></span><ul class=\"toc-item\"><li><span><a href=\"#Introduction\" data-toc-modified-id=\"Introduction-1.1\"><span class=\"toc-item-num\">1.1&nbsp;&nbsp;</span>Introduction</a></span></li><li><span><a href=\"#Purpose-of-Robust-Regression\" data-toc-modified-id=\"Purpose-of-Robust-Regression-1.2\"><span class=\"toc-item-num\">1.2&nbsp;&nbsp;</span>Purpose of Robust Regression</a></span></li><li><span><a href=\"#Applications-of-Robust-Regression\" data-toc-modified-id=\"Applications-of-Robust-Regression-1.3\"><span class=\"toc-item-num\">1.3&nbsp;&nbsp;</span>Applications of Robust Regression</a></span></li></ul></li><li><span><a href=\"#Basic-Linear-Regression-(OLS)-Recap\" data-toc-modified-id=\"Basic-Linear-Regression-(OLS)-Recap-2\"><span class=\"toc-item-num\">2&nbsp;&nbsp;</span>Basic Linear Regression (OLS) Recap</a></span><ul class=\"toc-item\"><li><span><a href=\"#What-is-Linear-Regression?\" data-toc-modified-id=\"What-is-Linear-Regression?-2.1\"><span class=\"toc-item-num\">2.1&nbsp;&nbsp;</span>What is Linear Regression?</a></span></li><li><span><a href=\"#The-Linear-Regression-Equation\" data-toc-modified-id=\"The-Linear-Regression-Equation-2.2\"><span class=\"toc-item-num\">2.2&nbsp;&nbsp;</span>The Linear Regression Equation</a></span></li><li><span><a href=\"#Model-Fitting-with-OLS\" data-toc-modified-id=\"Model-Fitting-with-OLS-2.3\"><span class=\"toc-item-num\">2.3&nbsp;&nbsp;</span>Model Fitting with OLS</a></span></li><li><span><a href=\"#Assumptions-of-Linear-Regression\" data-toc-modified-id=\"Assumptions-of-Linear-Regression-2.4\"><span class=\"toc-item-num\">2.4&nbsp;&nbsp;</span>Assumptions of Linear Regression</a></span></li><li><span><a href=\"#Limitations-of-OLS-Regression\" data-toc-modified-id=\"Limitations-of-OLS-Regression-2.5\"><span class=\"toc-item-num\">2.5&nbsp;&nbsp;</span>Limitations of OLS Regression</a></span></li></ul></li><li><span><a href=\"#Issues-with-OLS-and-Need-for-Robust-Regression\" data-toc-modified-id=\"Issues-with-OLS-and-Need-for-Robust-Regression-3\"><span class=\"toc-item-num\">3&nbsp;&nbsp;</span>Issues with OLS and Need for Robust Regression</a></span><ul class=\"toc-item\"><li><span><a href=\"#Limitations-of-OLS-Regression\" data-toc-modified-id=\"Limitations-of-OLS-Regression-3.1\"><span class=\"toc-item-num\">3.1&nbsp;&nbsp;</span>Limitations of OLS Regression</a></span><ul class=\"toc-item\"><li><span><a href=\"#1.-Sensitivity-to-Outliers\" data-toc-modified-id=\"1.-Sensitivity-to-Outliers-3.1.1\"><span class=\"toc-item-num\">3.1.1&nbsp;&nbsp;</span>1. Sensitivity to Outliers</a></span></li><li><span><a href=\"#2.-Heteroscedasticity\" data-toc-modified-id=\"2.-Heteroscedasticity-3.1.2\"><span class=\"toc-item-num\">3.1.2&nbsp;&nbsp;</span>2. Heteroscedasticity</a></span></li></ul></li><li><span><a href=\"#Scenarios-Where-Robust-Regression-is-Needed\" data-toc-modified-id=\"Scenarios-Where-Robust-Regression-is-Needed-3.2\"><span class=\"toc-item-num\">3.2&nbsp;&nbsp;</span>Scenarios Where Robust Regression is Needed</a></span></li></ul></li><li><span><a href=\"#Types-of-Robust-Regression-Methods\" data-toc-modified-id=\"Types-of-Robust-Regression-Methods-4\"><span class=\"toc-item-num\">4&nbsp;&nbsp;</span>Types of Robust Regression Methods</a></span><ul class=\"toc-item\"><li><span><a href=\"#1.-Huber-Regression\" data-toc-modified-id=\"1.-Huber-Regression-4.1\"><span class=\"toc-item-num\">4.1&nbsp;&nbsp;</span>1. Huber Regression</a></span></li><li><span><a href=\"#2.-Tukey's-Biweight-Regression\" data-toc-modified-id=\"2.-Tukey's-Biweight-Regression-4.2\"><span class=\"toc-item-num\">4.2&nbsp;&nbsp;</span>2. Tukey's Biweight Regression</a></span></li><li><span><a href=\"#3.-Bisquare-(Andrew's-Wave)-Regression\" data-toc-modified-id=\"3.-Bisquare-(Andrew's-Wave)-Regression-4.3\"><span class=\"toc-item-num\">4.3&nbsp;&nbsp;</span>3. Bisquare (Andrew's Wave) Regression</a></span></li></ul></li><li><span><a href=\"#Code-Examples-for-Robust-Regression\" data-toc-modified-id=\"Code-Examples-for-Robust-Regression-5\"><span class=\"toc-item-num\">5&nbsp;&nbsp;</span>Code Examples for Robust Regression</a></span><ul class=\"toc-item\"><li><span><a href=\"#Huber-Regression\" data-toc-modified-id=\"Huber-Regression-5.1\"><span class=\"toc-item-num\">5.1&nbsp;&nbsp;</span>Huber Regression</a></span><ul class=\"toc-item\"><li><span><a href=\"#Data-Loading\" data-toc-modified-id=\"Data-Loading-5.1.1\"><span class=\"toc-item-num\">5.1.1&nbsp;&nbsp;</span>Data Loading</a></span></li><li><span><a href=\"#Model-Fitting\" data-toc-modified-id=\"Model-Fitting-5.1.2\"><span class=\"toc-item-num\">5.1.2&nbsp;&nbsp;</span>Model Fitting</a></span></li><li><span><a href=\"#Interpretation-of-Results\" data-toc-modified-id=\"Interpretation-of-Results-5.1.3\"><span class=\"toc-item-num\">5.1.3&nbsp;&nbsp;</span>Interpretation of Results</a></span></li></ul></li><li><span><a href=\"#Tukey's-Biweight-Regression\" data-toc-modified-id=\"Tukey's-Biweight-Regression-5.2\"><span class=\"toc-item-num\">5.2&nbsp;&nbsp;</span>Tukey's Biweight Regression</a></span><ul class=\"toc-item\"><li><span><a href=\"#Data-Loading\" data-toc-modified-id=\"Data-Loading-5.2.1\"><span class=\"toc-item-num\">5.2.1&nbsp;&nbsp;</span>Data Loading</a></span></li><li><span><a href=\"#Model-Fitting\" data-toc-modified-id=\"Model-Fitting-5.2.2\"><span class=\"toc-item-num\">5.2.2&nbsp;&nbsp;</span>Model Fitting</a></span></li><li><span><a href=\"#Interpretation-of-Results\" data-toc-modified-id=\"Interpretation-of-Results-5.2.3\"><span class=\"toc-item-num\">5.2.3&nbsp;&nbsp;</span>Interpretation of Results</a></span></li></ul></li><li><span><a href=\"#Bisquare-(Andrew's-Wave)-Regression\" data-toc-modified-id=\"Bisquare-(Andrew's-Wave)-Regression-5.3\"><span class=\"toc-item-num\">5.3&nbsp;&nbsp;</span>Bisquare (Andrew's Wave) Regression</a></span><ul class=\"toc-item\"><li><span><a href=\"#Data-Loading\" data-toc-modified-id=\"Data-Loading-5.3.1\"><span class=\"toc-item-num\">5.3.1&nbsp;&nbsp;</span>Data Loading</a></span></li><li><span><a href=\"#Model-Fitting\" data-toc-modified-id=\"Model-Fitting-5.3.2\"><span class=\"toc-item-num\">5.3.2&nbsp;&nbsp;</span>Model Fitting</a></span></li><li><span><a href=\"#Interpretation-of-Results\" data-toc-modified-id=\"Interpretation-of-Results-5.3.3\"><span class=\"toc-item-num\">5.3.3&nbsp;&nbsp;</span>Interpretation of Results</a></span></li></ul></li><li><span><a href=\"#Summary\" data-toc-modified-id=\"Summary-5.4\"><span class=\"toc-item-num\">5.4&nbsp;&nbsp;</span>Summary</a></span></li></ul></li><li><span><a href=\"#Model-Evaluation-for-Robust-Regression\" data-toc-modified-id=\"Model-Evaluation-for-Robust-Regression-6\"><span class=\"toc-item-num\">6&nbsp;&nbsp;</span>Model Evaluation for Robust Regression</a></span><ul class=\"toc-item\"><li><span><a href=\"#Robustness-to-Outliers\" data-toc-modified-id=\"Robustness-to-Outliers-6.1\"><span class=\"toc-item-num\">6.1&nbsp;&nbsp;</span>Robustness to Outliers</a></span><ul class=\"toc-item\"><li><span><a href=\"#Residual-Analysis\" data-toc-modified-id=\"Residual-Analysis-6.1.1\"><span class=\"toc-item-num\">6.1.1&nbsp;&nbsp;</span>Residual Analysis</a></span></li><li><span><a href=\"#Outlier-Detection\" data-toc-modified-id=\"Outlier-Detection-6.1.2\"><span class=\"toc-item-num\">6.1.2&nbsp;&nbsp;</span>Outlier Detection</a></span></li><li><span><a href=\"#Comparisons-with-OLS\" data-toc-modified-id=\"Comparisons-with-OLS-6.1.3\"><span class=\"toc-item-num\">6.1.3&nbsp;&nbsp;</span>Comparisons with OLS</a></span></li></ul></li><li><span><a href=\"#Robustness-to-Heteroscedasticity\" data-toc-modified-id=\"Robustness-to-Heteroscedasticity-6.2\"><span class=\"toc-item-num\">6.2&nbsp;&nbsp;</span>Robustness to Heteroscedasticity</a></span><ul class=\"toc-item\"><li><span><a href=\"#Residual-Plot\" data-toc-modified-id=\"Residual-Plot-6.2.1\"><span class=\"toc-item-num\">6.2.1&nbsp;&nbsp;</span>Residual Plot</a></span></li><li><span><a href=\"#White-Test\" data-toc-modified-id=\"White-Test-6.2.2\"><span class=\"toc-item-num\">6.2.2&nbsp;&nbsp;</span>White Test</a></span></li><li><span><a href=\"#Comparison-to-OLS\" data-toc-modified-id=\"Comparison-to-OLS-6.2.3\"><span class=\"toc-item-num\">6.2.3&nbsp;&nbsp;</span>Comparison to OLS</a></span></li></ul></li><li><span><a href=\"#Model-Selection\" data-toc-modified-id=\"Model-Selection-6.3\"><span class=\"toc-item-num\">6.3&nbsp;&nbsp;</span>Model Selection</a></span></li><li><span><a href=\"#Cross-Validation\" data-toc-modified-id=\"Cross-Validation-6.4\"><span class=\"toc-item-num\">6.4&nbsp;&nbsp;</span>Cross-Validation</a></span></li><li><span><a href=\"#Real-World-Data-Tests\" data-toc-modified-id=\"Real-World-Data-Tests-6.5\"><span class=\"toc-item-num\">6.5&nbsp;&nbsp;</span>Real-World Data Tests</a></span></li></ul></li><li><span><a href=\"#Comparison-with-OLS\" data-toc-modified-id=\"Comparison-with-OLS-7\"><span class=\"toc-item-num\">7&nbsp;&nbsp;</span>Comparison with OLS</a></span><ul class=\"toc-item\"><li><span><a href=\"#Differences-between-Robust-Regression-and-OLS\" data-toc-modified-id=\"Differences-between-Robust-Regression-and-OLS-7.1\"><span class=\"toc-item-num\">7.1&nbsp;&nbsp;</span>Differences between Robust Regression and OLS</a></span><ul class=\"toc-item\"><li><span><a href=\"#Handling-Outliers\" data-toc-modified-id=\"Handling-Outliers-7.1.1\"><span class=\"toc-item-num\">7.1.1&nbsp;&nbsp;</span>Handling Outliers</a></span></li><li><span><a href=\"#Resistance-to-Heteroscedasticity\" data-toc-modified-id=\"Resistance-to-Heteroscedasticity-7.1.2\"><span class=\"toc-item-num\">7.1.2&nbsp;&nbsp;</span>Resistance to Heteroscedasticity</a></span></li><li><span><a href=\"#Loss-Functions\" data-toc-modified-id=\"Loss-Functions-7.1.3\"><span class=\"toc-item-num\">7.1.3&nbsp;&nbsp;</span>Loss Functions</a></span></li><li><span><a href=\"#Weighting-Observations\" data-toc-modified-id=\"Weighting-Observations-7.1.4\"><span class=\"toc-item-num\">7.1.4&nbsp;&nbsp;</span>Weighting Observations</a></span></li></ul></li><li><span><a href=\"#When-to-Prefer-Robust-Regression\" data-toc-modified-id=\"When-to-Prefer-Robust-Regression-7.2\"><span class=\"toc-item-num\">7.2&nbsp;&nbsp;</span>When to Prefer Robust Regression</a></span></li><li><span><a href=\"#When-to-Use-OLS\" data-toc-modified-id=\"When-to-Use-OLS-7.3\"><span class=\"toc-item-num\">7.3&nbsp;&nbsp;</span>When to Use OLS</a></span></li><li><span><a href=\"#Summary\" data-toc-modified-id=\"Summary-7.4\"><span class=\"toc-item-num\">7.4&nbsp;&nbsp;</span>Summary</a></span></li></ul></li><li><span><a href=\"#Outlier-Detection-and-Handling\" data-toc-modified-id=\"Outlier-Detection-and-Handling-8\"><span class=\"toc-item-num\">8&nbsp;&nbsp;</span>Outlier Detection and Handling</a></span><ul class=\"toc-item\"><li><span><a href=\"#Outlier-Detection-Methods\" data-toc-modified-id=\"Outlier-Detection-Methods-8.1\"><span class=\"toc-item-num\">8.1&nbsp;&nbsp;</span>Outlier Detection Methods</a></span><ul class=\"toc-item\"><li><span><a href=\"#Visual-Inspection\" data-toc-modified-id=\"Visual-Inspection-8.1.1\"><span class=\"toc-item-num\">8.1.1&nbsp;&nbsp;</span>Visual Inspection</a></span></li><li><span><a href=\"#Z-Score\" data-toc-modified-id=\"Z-Score-8.1.2\"><span class=\"toc-item-num\">8.1.2&nbsp;&nbsp;</span>Z-Score</a></span></li><li><span><a href=\"#Tukey's-Fences\" data-toc-modified-id=\"Tukey's-Fences-8.1.3\"><span class=\"toc-item-num\">8.1.3&nbsp;&nbsp;</span>Tukey's Fences</a></span></li><li><span><a href=\"#Mahalanobis-Distance\" data-toc-modified-id=\"Mahalanobis-Distance-8.1.4\"><span class=\"toc-item-num\">8.1.4&nbsp;&nbsp;</span>Mahalanobis Distance</a></span></li></ul></li><li><span><a href=\"#Handling-Outliers-with-Robust-Regression\" data-toc-modified-id=\"Handling-Outliers-with-Robust-Regression-8.2\"><span class=\"toc-item-num\">8.2&nbsp;&nbsp;</span>Handling Outliers with Robust Regression</a></span><ul class=\"toc-item\"><li><span><a href=\"#Huber-Regression\" data-toc-modified-id=\"Huber-Regression-8.2.1\"><span class=\"toc-item-num\">8.2.1&nbsp;&nbsp;</span>Huber Regression</a></span></li><li><span><a href=\"#Tukey's-Biweight-Regression\" data-toc-modified-id=\"Tukey's-Biweight-Regression-8.2.2\"><span class=\"toc-item-num\">8.2.2&nbsp;&nbsp;</span>Tukey's Biweight Regression</a></span></li><li><span><a href=\"#Bisquare-(Andrew's-Wave)-Regression\" data-toc-modified-id=\"Bisquare-(Andrew's-Wave)-Regression-8.2.3\"><span class=\"toc-item-num\">8.2.3&nbsp;&nbsp;</span>Bisquare (Andrew's Wave) Regression</a></span></li></ul></li><li><span><a href=\"#Code-Examples-and-Visualizations\" data-toc-modified-id=\"Code-Examples-and-Visualizations-8.3\"><span class=\"toc-item-num\">8.3&nbsp;&nbsp;</span>Code Examples and Visualizations</a></span><ul class=\"toc-item\"><li><span><a href=\"#Outlier-Detection-Example-(Z-Score):\" data-toc-modified-id=\"Outlier-Detection-Example-(Z-Score):-8.3.1\"><span class=\"toc-item-num\">8.3.1&nbsp;&nbsp;</span>Outlier Detection Example (Z-Score):</a></span></li><li><span><a href=\"#Outlier-Handling-with-Robust-Regression-(Huber):\" data-toc-modified-id=\"Outlier-Handling-with-Robust-Regression-(Huber):-8.3.2\"><span class=\"toc-item-num\">8.3.2&nbsp;&nbsp;</span>Outlier Handling with Robust Regression (Huber):</a></span></li></ul></li><li><span><a href=\"#Summary\" data-toc-modified-id=\"Summary-8.4\"><span class=\"toc-item-num\">8.4&nbsp;&nbsp;</span>Summary</a></span></li></ul></li><li><span><a href=\"#Heteroscedasticity-and-Homoscedasticity\" data-toc-modified-id=\"Heteroscedasticity-and-Homoscedasticity-9\"><span class=\"toc-item-num\">9&nbsp;&nbsp;</span>Heteroscedasticity and Homoscedasticity</a></span><ul class=\"toc-item\"><li><span><a href=\"#Heteroscedasticity-(Varying-Variance)\" data-toc-modified-id=\"Heteroscedasticity-(Varying-Variance)-9.1\"><span class=\"toc-item-num\">9.1&nbsp;&nbsp;</span>Heteroscedasticity (Varying Variance)</a></span></li><li><span><a href=\"#Homoscedasticity-(Constant-Variance)\" data-toc-modified-id=\"Homoscedasticity-(Constant-Variance)-9.2\"><span class=\"toc-item-num\">9.2&nbsp;&nbsp;</span>Homoscedasticity (Constant Variance)</a></span></li><li><span><a href=\"#Handling-Heteroscedasticity-with-Robust-Regression\" data-toc-modified-id=\"Handling-Heteroscedasticity-with-Robust-Regression-9.3\"><span class=\"toc-item-num\">9.3&nbsp;&nbsp;</span>Handling Heteroscedasticity with Robust Regression</a></span></li><li><span><a href=\"#Summary\" data-toc-modified-id=\"Summary-9.4\"><span class=\"toc-item-num\">9.4&nbsp;&nbsp;</span>Summary</a></span></li></ul></li><li><span><a href=\"#Real-Life-Use-Cases\" data-toc-modified-id=\"Real-Life-Use-Cases-10\"><span class=\"toc-item-num\">10&nbsp;&nbsp;</span>Real-Life Use Cases</a></span><ul class=\"toc-item\"><li><span><a href=\"#Finance-and-Economics\" data-toc-modified-id=\"Finance-and-Economics-10.1\"><span class=\"toc-item-num\">10.1&nbsp;&nbsp;</span>Finance and Economics</a></span></li><li><span><a href=\"#Environmental-Science\" data-toc-modified-id=\"Environmental-Science-10.2\"><span class=\"toc-item-num\">10.2&nbsp;&nbsp;</span>Environmental Science</a></span></li><li><span><a href=\"#Medicine-and-Healthcare\" data-toc-modified-id=\"Medicine-and-Healthcare-10.3\"><span class=\"toc-item-num\">10.3&nbsp;&nbsp;</span>Medicine and Healthcare</a></span></li><li><span><a href=\"#Marketing-and-Advertising\" data-toc-modified-id=\"Marketing-and-Advertising-10.4\"><span class=\"toc-item-num\">10.4&nbsp;&nbsp;</span>Marketing and Advertising</a></span></li><li><span><a href=\"#Manufacturing-and-Quality-Control\" data-toc-modified-id=\"Manufacturing-and-Quality-Control-10.5\"><span class=\"toc-item-num\">10.5&nbsp;&nbsp;</span>Manufacturing and Quality Control</a></span></li><li><span><a href=\"#Education-and-Social-Sciences\" data-toc-modified-id=\"Education-and-Social-Sciences-10.6\"><span class=\"toc-item-num\">10.6&nbsp;&nbsp;</span>Education and Social Sciences</a></span></li><li><span><a href=\"#Retail-and-Sales\" data-toc-modified-id=\"Retail-and-Sales-10.7\"><span class=\"toc-item-num\">10.7&nbsp;&nbsp;</span>Retail and Sales</a></span></li><li><span><a href=\"#Psychology-and-Behavior-Studies\" data-toc-modified-id=\"Psychology-and-Behavior-Studies-10.8\"><span class=\"toc-item-num\">10.8&nbsp;&nbsp;</span>Psychology and Behavior Studies</a></span></li><li><span><a href=\"#Urban-Planning-and-Transportation\" data-toc-modified-id=\"Urban-Planning-and-Transportation-10.9\"><span class=\"toc-item-num\">10.9&nbsp;&nbsp;</span>Urban Planning and Transportation</a></span></li><li><span><a href=\"#Agriculture-and-Crop-Yield-Prediction\" data-toc-modified-id=\"Agriculture-and-Crop-Yield-Prediction-10.10\"><span class=\"toc-item-num\">10.10&nbsp;&nbsp;</span>Agriculture and Crop Yield Prediction</a></span></li></ul></li><li><span><a href=\"#Content-Summarization\" data-toc-modified-id=\"Content-Summarization-11\"><span class=\"toc-item-num\">11&nbsp;&nbsp;</span>Content Summarization</a></span></li><li><span><a href=\"#Conclusion\" data-toc-modified-id=\"Conclusion-12\"><span class=\"toc-item-num\">12&nbsp;&nbsp;</span>Conclusion</a></span></li></ul></div>"
   ]
  },
  {
   "cell_type": "markdown",
   "id": "11cdd427",
   "metadata": {},
   "source": [
    "# Robust Regression: Introduction and Background"
   ]
  },
  {
   "cell_type": "markdown",
   "id": "41721e72",
   "metadata": {},
   "source": [
    "## Introduction"
   ]
  },
  {
   "cell_type": "markdown",
   "id": "c0e1c60a",
   "metadata": {},
   "source": [
    "Linear regression is a powerful and widely-used tool for modeling the relationship between variables. However, it has its limitations, particularly when faced with real-world data that may not conform to its assumptions. Robust Regression is an extension of traditional linear regression designed to address these limitations and provide more reliable results in the presence of outliers and heteroscedasticity.\n",
    "\n",
    "In this section, we'll explore the concept of Robust Regression, its purpose, and the specific issues it is designed to overcome. We'll also discuss some practical applications where Robust Regression shines."
   ]
  },
  {
   "cell_type": "markdown",
   "id": "fd0e9c6c",
   "metadata": {},
   "source": [
    "## Purpose of Robust Regression"
   ]
  },
  {
   "cell_type": "markdown",
   "id": "88eb677e",
   "metadata": {},
   "source": [
    "The primary purpose of Robust Regression is to enhance the resilience of linear regression models in the face of deviations from the standard assumptions. These deviations often manifest as:\n",
    "\n",
    "1. **Outliers:** Data points that significantly deviate from the overall pattern. Outliers can exert disproportionate influence on the parameters estimated by ordinary least squares (OLS) regression.\n",
    "\n",
    "2. **Heteroscedasticity:** Variability in the error terms that changes with the values of the independent variables. OLS assumes constant variance, which can lead to unreliable parameter estimates when heteroscedasticity is present.\n",
    "\n",
    "Robust Regression models are designed to provide stable and reliable parameter estimates even when confronted with data that violates these assumptions."
   ]
  },
  {
   "cell_type": "markdown",
   "id": "a01916ff",
   "metadata": {},
   "source": [
    "## Applications of Robust Regression"
   ]
  },
  {
   "cell_type": "markdown",
   "id": "bb967689",
   "metadata": {},
   "source": [
    "Robust Regression techniques find applications in various fields and scenarios where the data may not conform to the idealized assumptions of OLS regression. Some common areas where Robust Regression is applied include:\n",
    "\n",
    "1. **Economics:** Analyzing economic data often involves dealing with outliers and heteroscedasticity. Robust Regression is crucial in modeling and predicting economic trends.\n",
    "\n",
    "2. **Finance:** Financial data can exhibit extreme values and non-constant variance, making robust modeling essential for risk assessment, portfolio optimization, and more.\n",
    "\n",
    "3. **Environmental Sciences:** Environmental datasets can be highly variable and may contain outliers. Robust Regression is used for modeling environmental factors and making predictions.\n",
    "\n",
    "4. **Medicine and Healthcare:** Healthcare data can be noisy and subject to extreme values, making Robust Regression important for medical research and diagnosis.\n",
    "\n",
    "5. **Manufacturing and Quality Control:** Quality control data may have outliers, and Robust Regression is employed to optimize manufacturing processes and ensure product quality."
   ]
  },
  {
   "cell_type": "markdown",
   "id": "1a116299",
   "metadata": {},
   "source": [
    "# Basic Linear Regression (OLS) Recap"
   ]
  },
  {
   "cell_type": "markdown",
   "id": "a10df695",
   "metadata": {},
   "source": [
    "Before delving into the world of Robust Regression, it's essential to recap the fundamentals of basic Linear Regression, often referred to as Ordinary Least Squares (OLS) Regression. OLS Regression serves as the foundation upon which Robust Regression techniques are built."
   ]
  },
  {
   "cell_type": "markdown",
   "id": "5fc5d630",
   "metadata": {},
   "source": [
    "## What is Linear Regression?"
   ]
  },
  {
   "cell_type": "markdown",
   "id": "15a4eafc",
   "metadata": {},
   "source": [
    "Linear Regression is a statistical method used to model the relationship between a dependent variable (target) and one or more independent variables (predictors or features). It assumes a linear relationship between the predictors and the target. The goal of Linear Regression is to find the best-fitting linear equation that explains the variance in the target variable based on the predictors."
   ]
  },
  {
   "cell_type": "markdown",
   "id": "955d1dbd",
   "metadata": {},
   "source": [
    "## The Linear Regression Equation"
   ]
  },
  {
   "cell_type": "markdown",
   "id": "62cd711f",
   "metadata": {},
   "source": [
    "The most basic form of a simple linear regression equation can be expressed as:\n",
    "\n",
    "$$y = \\beta_0 + \\beta_1 \\cdot x$$\n",
    "\n",
    "Where:\n",
    "- $y$ is the dependent variable (target).\n",
    "- $x$ is the independent variable (predictor).\n",
    "- $\\beta_0$ is the intercept (the value of $y$ when $x$ is 0).\n",
    "- $\\beta_1$ is the slope (the change in $y$ for a one-unit change in $x$).\n",
    "\n",
    "In multiple linear regression, where there are multiple predictors, the equation extends to:\n",
    "\n",
    "$$y = \\beta_0 + \\beta_1 \\cdot x_1 + \\beta_2 \\cdot x_2 + \\ldots + \\beta_p \\cdot x_p$$\n",
    "\n",
    "Where:\n",
    "- $p$ is the number of predictors."
   ]
  },
  {
   "cell_type": "markdown",
   "id": "628299d1",
   "metadata": {},
   "source": [
    "## Model Fitting with OLS"
   ]
  },
  {
   "cell_type": "markdown",
   "id": "85d59674",
   "metadata": {},
   "source": [
    "The OLS (Ordinary Least Squares) method aims to find the values of the coefficients $\\beta_0, \\beta_1, \\ldots, \\beta_p$ that minimize the sum of the squared differences between the observed target values and the predicted values based on the linear equation. This is often expressed as the cost function:\n",
    "\n",
    "$$Cost_{OLS} = \\sum_{i=1}^{n} (y_i - \\hat{y}_i)^2$$\n",
    "\n",
    "Where:\n",
    "- $n$ is the number of data points.\n",
    "- $y_i$ is the observed value.\n",
    "- $\\hat{y}_i$ is the predicted value.\n",
    "\n",
    "The coefficients are estimated through the OLS method to minimize this cost function. Once the coefficients are determined, you have a linear regression model."
   ]
  },
  {
   "cell_type": "markdown",
   "id": "c6687f0e",
   "metadata": {},
   "source": [
    "## Assumptions of Linear Regression"
   ]
  },
  {
   "cell_type": "markdown",
   "id": "0f0b8204",
   "metadata": {},
   "source": [
    "Linear Regression relies on several assumptions, including:\n",
    "1. Linearity: The relationship between predictors and the target variable is linear.\n",
    "2. Independence: The residuals (differences between observed and predicted values) are independent of each other.\n",
    "3. Homoscedasticity: The variance of residuals is constant across all levels of the predictors.\n",
    "4. Normality: Residuals are normally distributed."
   ]
  },
  {
   "cell_type": "markdown",
   "id": "04d53eea",
   "metadata": {},
   "source": [
    "## Limitations of OLS Regression"
   ]
  },
  {
   "cell_type": "markdown",
   "id": "940fdc1c",
   "metadata": {},
   "source": [
    "While OLS Regression is a powerful tool, it has limitations, particularly when data deviates from its assumptions. OLS is sensitive to outliers and can produce unreliable results when heteroscedasticity is present. This is where Robust Regression techniques come into play."
   ]
  },
  {
   "cell_type": "markdown",
   "id": "935b63a8",
   "metadata": {},
   "source": [
    "# Issues with OLS and Need for Robust Regression"
   ]
  },
  {
   "cell_type": "markdown",
   "id": "86767c9a",
   "metadata": {},
   "source": [
    "Linear regression using the Ordinary Least Squares (OLS) method is a powerful and widely used tool for modeling the relationship between variables. However, it has its limitations, particularly when faced with real-world data that may not conform to its idealized assumptions. In this section, we will explore the issues with OLS regression and discuss why Robust Regression is needed."
   ]
  },
  {
   "cell_type": "markdown",
   "id": "e594b6f3",
   "metadata": {},
   "source": [
    "## Limitations of OLS Regression"
   ]
  },
  {
   "cell_type": "markdown",
   "id": "4323ec28",
   "metadata": {},
   "source": [
    "### 1. Sensitivity to Outliers"
   ]
  },
  {
   "cell_type": "markdown",
   "id": "1a03fb36",
   "metadata": {},
   "source": [
    "Linear regression based on OLS is highly sensitive to outliers. An outlier is an observation that significantly deviates from the overall pattern of the data. Outliers can distort the regression model by exerting disproportionate influence on the parameter estimates. As a result, the model may be heavily biased by these extreme values."
   ]
  },
  {
   "cell_type": "code",
   "execution_count": 11,
   "id": "27919a8f",
   "metadata": {},
   "outputs": [
    {
     "data": {
      "image/png": "[encoded data removed]",
      "text/plain": [
       "<Figure size 1200x600 with 2 Axes>"
      ]
     },
     "metadata": {},
     "output_type": "display_data"
    }
   ],
   "source": [
    "import matplotlib.pyplot as plt\n",
    "import numpy as np\n",
    "\n",
    "# Generate some sample data\n",
    "x = np.linspace(0, 10, 50)\n",
    "y = 2 * x + 1\n",
    "\n",
    "# Add an outlier\n",
    "outlier_x = 7\n",
    "outlier_y = 40\n",
    "\n",
    "# Create a scatter plot with and without the outlier\n",
    "plt.figure(figsize=(12, 6))\n",
    "\n",
    "plt.subplot(1, 2, 1)\n",
    "plt.scatter(x, y, label='Data Points')\n",
    "plt.scatter(outlier_x, outlier_y, color='red', label='Outlier')\n",
    "plt.title('With Outlier')\n",
    "plt.legend()\n",
    "\n",
    "plt.subplot(1, 2, 2)\n",
    "plt.scatter(x, y, label='Data Points')\n",
    "plt.title('Without Outlier')\n",
    "\n",
    "plt.tight_layout()\n",
    "plt.show()\n"
   ]
  },
  {
   "cell_type": "markdown",
   "id": "cba498cd",
   "metadata": {},
   "source": [
    "### 2. Heteroscedasticity"
   ]
  },
  {
   "cell_type": "markdown",
   "id": "6e9334bf",
   "metadata": {},
   "source": [
    "Heteroscedasticity refers to the condition where the variability (or spread) of the residuals (the differences between observed and predicted values) changes across different levels of the predictor variable. OLS assumes homoscedasticity, which means that the variance of the residuals is constant across all levels of the predictor. When heteroscedasticity is present, OLS regression can produce unreliable standard errors and parameter estimates."
   ]
  },
  {
   "cell_type": "code",
   "execution_count": 12,
   "id": "6e039ff4",
   "metadata": {},
   "outputs": [
    {
     "data": {
      "image/png": "[encoded data removed]",
      "text/plain": [
       "<Figure size 1200x600 with 2 Axes>"
      ]
     },
     "metadata": {},
     "output_type": "display_data"
    }
   ],
   "source": [
    "import matplotlib.pyplot as plt\n",
    "import numpy as np\n",
    "\n",
    "# Generate some sample data\n",
    "x = np.linspace(0, 10, 50)\n",
    "y = 2 * x + 1\n",
    "\n",
    "# Create data with heteroscedasticity\n",
    "heteroscedasticity = 2 * x ** 2 + 1\n",
    "y_hetero = y + heteroscedasticity\n",
    "\n",
    "# Create a scatter plot with and without heteroscedasticity\n",
    "plt.figure(figsize=(12, 6))\n",
    "\n",
    "plt.subplot(1, 2, 1)\n",
    "plt.scatter(x, y_hetero, label='Data Points')\n",
    "plt.title('With Heteroscedasticity')\n",
    "\n",
    "plt.subplot(1, 2, 2)\n",
    "plt.scatter(x, y, label='Data Points')\n",
    "plt.title('Without Heteroscedasticity')\n",
    "\n",
    "plt.tight_layout()\n",
    "plt.show()\n"
   ]
  },
  {
   "cell_type": "markdown",
   "id": "4c4dba29",
   "metadata": {},
   "source": [
    "## Scenarios Where Robust Regression is Needed"
   ]
  },
  {
   "cell_type": "markdown",
   "id": "9de5d1e1",
   "metadata": {},
   "source": [
    "Robust Regression techniques are particularly valuable in scenarios where OLS regression is likely to produce unreliable results due to the presence of outliers or heteroscedasticity. Some common scenarios where Robust Regression is needed include:\n",
    "\n",
    "1. **Financial Modeling:** Financial data often contains extreme values and may exhibit heteroscedasticity, making robust modeling essential for risk assessment and investment strategies.\n",
    "\n",
    "2. **Econometrics:** Economic data can be affected by outliers and changing variance over time. Robust Regression is crucial for economic modeling and forecasting.\n",
    "\n",
    "3. **Healthcare and Medical Research:** Medical datasets may contain outliers and exhibit changing variances, making Robust Regression important for studies and diagnoses.\n",
    "\n",
    "4. **Quality Control and Manufacturing:** Quality control data may be subject to outliers, requiring robust models to maintain product quality and process optimization.\n",
    "\n",
    "5. **Environmental Sciences:** Environmental data can be noisy and contain outliers, making Robust Regression essential for environmental research and predictions."
   ]
  },
  {
   "cell_type": "markdown",
   "id": "322add3f",
   "metadata": {},
   "source": [
    "Robust Regression techniques provide a more stable and reliable alternative to OLS regression in these scenarios. These methods are designed to minimize the impact of outliers and handle varying variances, resulting in parameter estimates that are less sensitive to extreme values and more resistant to heteroscedasticity."
   ]
  },
  {
   "cell_type": "markdown",
   "id": "ea2b512a",
   "metadata": {},
   "source": [
    "# Types of Robust Regression Methods"
   ]
  },
  {
   "cell_type": "markdown",
   "id": "58efd528",
   "metadata": {},
   "source": [
    "Robust Regression methods are designed to provide reliable parameter estimates in the presence of outliers and heteroscedasticity. Here, we will introduce three prominent Robust Regression methods, each with its unique characteristics."
   ]
  },
  {
   "cell_type": "markdown",
   "id": "f1ef2d8e",
   "metadata": {},
   "source": [
    "## 1. Huber Regression"
   ]
  },
  {
   "cell_type": "markdown",
   "id": "1a0ca8ab",
   "metadata": {},
   "source": [
    "**Description:**\n",
    "\n",
    "Huber Regression, developed by Peter J. Huber, is a robust regression technique that combines the best features of the least squares (L2) and the absolute deviation (L1) methods. It is designed to balance resistance to outliers and efficiency for non-outlying data.\n",
    "\n",
    "**Equation:**\n",
    "\n",
    "Huber's loss function is defined as:\n",
    "\n",
    "$$\n",
    "L_{\\delta}(r) = \\begin{cases} \n",
    "\\frac{1}{2}r^2 & \\text{if } |r| \\leq \\delta \\\\\n",
    "\\delta(|r| - \\frac{1}{2}\\delta) & \\text{if } |r| > \\delta \n",
    "\\end{cases}\n",
    "$$\n",
    "\n",
    "Where:\n",
    "- $r$ is the residual (the difference between observed and predicted values).\n",
    "- $\\delta$ is a tuning parameter that determines the point at which the loss function transitions from quadratic to linear.\n",
    "\n",
    "**Key Features:**\n",
    "\n",
    "- Huber Regression uses a combination of quadratic and linear loss functions, offering robustness to outliers while maintaining efficiency for inliers.\n",
    "- It has a smooth transition from quadratic to linear, controlled by the $\\delta$ parameter.\n",
    "\n",
    "**Pros:**\n",
    "\n",
    "- Robust to moderate outliers.\n",
    "- More efficient for non-outlying data compared to purely L1 (absolute deviation) regression.\n",
    "\n",
    "**Cons:**\n",
    "\n",
    "- The choice of the $\\delta$ parameter can be subjective and impact the results.\n",
    "\n",
    "**When to Use:**\n",
    "\n",
    "- Huber Regression is suitable when data contains moderate outliers, and you want to achieve a balance between robustness and efficiency.\n",
    "\n",
    "**When Not to Use:**\n",
    "\n",
    "- Avoid using Huber Regression when dealing with extreme outliers, as it may not provide sufficient robustness.\n",
    "\n",
    "**Alternatives:**\n",
    "\n",
    "- For more robustness to outliers, consider Tukey's Biweight or Bisquare Regression.\n",
    "\n",
    "**Use Cases:**\n",
    "\n",
    "- Finance: Analyzing financial data that may contain moderate outliers.\n",
    "- Geophysics: Modeling geophysical data with some deviations from normality."
   ]
  },
  {
   "cell_type": "markdown",
   "id": "2d54fcfe",
   "metadata": {},
   "source": [
    "## 2. Tukey's Biweight Regression"
   ]
  },
  {
   "cell_type": "markdown",
   "id": "3f1d54c9",
   "metadata": {},
   "source": [
    "**Description:**\n",
    "\n",
    "Tukey's Biweight Regression, also known as Bisquare M-estimation, is a robust regression method that assigns even less weight to outliers compared to Huber Regression. It is more resistant to the influence of extreme values.\n",
    "\n",
    "**Equation:**\n",
    "\n",
    "The weight function for Tukey's Biweight is defined as:\n",
    "\n",
    "$$\n",
    "w(r) = \\begin{cases} \n",
    "(1 - \\frac{r^2}{c^2})^2 & \\text{if } |r| \\leq c \\\\\n",
    "0 & \\text{if } |r| > c \n",
    "\\end{cases}\n",
    "$$\n",
    "\n",
    "Where:\n",
    "- $r$ is the residual.\n",
    "- $c$ is a tuning constant that determines the point at which the weight becomes zero.\n",
    "\n",
    "**Key Features:**\n",
    "\n",
    "- Tukey's Biweight down-weights observations with large residuals, making it highly resistant to outliers.\n",
    "- The weight function has a long tail, which means it down-weights even severe outliers.\n",
    "\n",
    "**Pros:**\n",
    "\n",
    "- Strong resistance to the influence of outliers.\n",
    "- Effective in cases where outliers are expected or important.\n",
    "\n",
    "**Cons:**\n",
    "\n",
    "- The choice of the tuning constant $c$ can be challenging.\n",
    "\n",
    "**When to Use:**\n",
    "\n",
    "- Tukey's Biweight is suitable when the presence of outliers is expected or when outliers should not be ignored but rather down-weighted.\n",
    "\n",
    "**When Not to Use:**\n",
    "\n",
    "- Avoid using Tukey's Biweight when data is free from outliers, as it may introduce unnecessary complexity.\n",
    "\n",
    "**Alternatives:**\n",
    "\n",
    "- For even stronger resistance to outliers, consider Bisquare Regression.\n",
    "\n",
    "**Use Cases:**\n",
    "\n",
    "- Geostatistics: Analyzing geospatial data that may contain extreme outliers.\n",
    "- Environmental Modeling: Predicting environmental factors with potentially influential outliers."
   ]
  },
  {
   "cell_type": "markdown",
   "id": "6fcad993",
   "metadata": {},
   "source": [
    "## 3. Bisquare (Andrew's Wave) Regression"
   ]
  },
  {
   "cell_type": "markdown",
   "id": "871d8f28",
   "metadata": {},
   "source": [
    "**Description:**\n",
    "\n",
    "Bisquare Regression, also known as Andrew's Wave estimator, is one of the most robust Robust Regression methods designed to provide strong resistance to the influence of outliers.\n",
    "\n",
    "**Equation:**\n",
    "\n",
    "The weight function for Bisquare Regression is defined as:\n",
    "\n",
    "$$\n",
    "w(r) = \\begin{cases} \n",
    "(1 - (\\frac{r}{c})^2)^2 & \\text{if } |r| \\leq c \\\\\n",
    "0 & \\text{if } |r| > c \n",
    "\\end{cases}\n",
    "$$\n",
    "\n",
    "Where:\n",
    "- $r$ is the residual.\n",
    "- $c$ is a tuning constant that determines the point at which the weight becomes zero.\n",
    "\n",
    "**Key Features:**\n",
    "\n",
    "- Bisquare Regression is highly resistant to the influence of outliers.\n",
    "- The bisquare weight function is relatively flat for moderate residuals and sharply declines for larger residuals.\n",
    "\n",
    "**Pros:**\n",
    "\n",
    "- Provides the strongest resistance to outliers among the discussed methods.\n",
    "- Effective in scenarios where outliers need to be minimized.\n",
    "\n",
    "**Cons:**\n",
    "\n",
    "- Like other Robust Regression methods, choosing the tuning constant $c$ can be challenging.\n",
    "\n",
    "**When to Use:**\n",
    "\n",
    "- Bisquare Regression is suitable when extreme outliers need to be minimized or when the data is expected to contain substantial outliers.\n",
    "\n",
    "**When Not to Use:**\n",
    "\n",
    "- Avoid using Bisquare Regression when outliers are not a significant concern, as it may overcomplicate the model.\n",
    "\n",
    "**Alternatives:**\n",
    "\n",
    "- For a balanced approach, consider Huber Regression.\n",
    "\n",
    "**Use Cases:**\n",
    "\n",
    "- Environmental Sciences: Analyzing environmental data with potentially influential outliers.\n",
    "- Data Analysis: When data exhibits extreme values that can bias traditional models."
   ]
  },
  {
   "cell_type": "markdown",
   "id": "80ed3eb1",
   "metadata": {},
   "source": [
    "In practice, the choice of a Robust Regression method should be based on an assessment of the data's characteristics and the level of resistance required against outliers. Each method has its own strengths and is suitable for different situations."
   ]
  },
  {
   "cell_type": "markdown",
   "id": "54b05177",
   "metadata": {},
   "source": [
    "# Code Examples for Robust Regression"
   ]
  },
  {
   "cell_type": "markdown",
   "id": "8bf1ade0",
   "metadata": {},
   "source": [
    "In this section, we will walk through Python code examples demonstrating how to implement Robust Regression using the `statsmodels` library. We will cover data loading, model fitting, and the interpretation of results for each Robust Regression method discussed earlier: Huber, Tukey's Biweight, and Bisquare."
   ]
  },
  {
   "cell_type": "markdown",
   "id": "dc00de5f",
   "metadata": {},
   "source": [
    "## Huber Regression"
   ]
  },
  {
   "cell_type": "markdown",
   "id": "7750bdba",
   "metadata": {},
   "source": [
    "### Data Loading"
   ]
  },
  {
   "cell_type": "markdown",
   "id": "36bb6c16",
   "metadata": {},
   "source": [
    "Let's start by loading some example data. For this demonstration, we'll use a synthetic dataset with potential outliers."
   ]
  },
  {
   "cell_type": "code",
   "execution_count": 13,
   "id": "f60c974c",
   "metadata": {},
   "outputs": [],
   "source": [
    "import numpy as np\n",
    "import statsmodels.api as sm\n",
    "\n",
    "# Generate synthetic data\n",
    "np.random.seed(42)\n",
    "X = np.random.rand(100, 2)\n",
    "y = 2 * X[:, 0] + 3 * X[:, 1] + np.random.normal(0, 0.5, 100)"
   ]
  },
  {
   "cell_type": "markdown",
   "id": "bcbc4661",
   "metadata": {},
   "source": [
    "### Model Fitting"
   ]
  },
  {
   "cell_type": "markdown",
   "id": "886a77e3",
   "metadata": {},
   "source": [
    "Now, we'll fit a Huber Regression model to the data:"
   ]
  },
  {
   "cell_type": "code",
   "execution_count": 14,
   "id": "15c5ddcb",
   "metadata": {},
   "outputs": [],
   "source": [
    "# Add a constant term to the independent variables\n",
    "X = sm.add_constant(X)\n",
    "\n",
    "# Fit a Huber Regression model\n",
    "huber_model = sm.RLM(y, X, M=sm.robust.norms.HuberT())\n",
    "huber_results = huber_model.fit()"
   ]
  },
  {
   "cell_type": "markdown",
   "id": "981393fb",
   "metadata": {},
   "source": [
    "### Interpretation of Results"
   ]
  },
  {
   "cell_type": "markdown",
   "id": "e109b586",
   "metadata": {},
   "source": [
    "We can examine the results of the Huber Regression model, including parameter estimates, standard errors, and p-values."
   ]
  },
  {
   "cell_type": "code",
   "execution_count": 15,
   "id": "795bc177",
   "metadata": {},
   "outputs": [
    {
     "name": "stdout",
     "output_type": "stream",
     "text": [
      "                    Robust linear Model Regression Results                    \n",
      "==============================================================================\n",
      "Dep. Variable:                      y   No. Observations:                  100\n",
      "Model:                            RLM   Df Residuals:                       97\n",
      "Method:                          IRLS   Df Model:                            2\n",
      "Norm:                          HuberT                                         \n",
      "Scale Est.:                       mad                                         \n",
      "Cov Type:                          H1                                         \n",
      "Date:                Sun, 05 Nov 2023                                         \n",
      "Time:                        15:54:20                                         \n",
      "No. Iterations:                    16                                         \n",
      "==============================================================================\n",
      "                 coef    std err          z      P>|z|      [0.025      0.975]\n",
      "------------------------------------------------------------------------------\n",
      "const         -0.0744      0.124     -0.599      0.549      -0.318       0.169\n",
      "x1             2.1343      0.158     13.470      0.000       1.824       2.445\n",
      "x2             3.0903      0.170     18.222      0.000       2.758       3.423\n",
      "==============================================================================\n",
      "\n",
      "If the model instance has been used for another fit with different fit parameters, then the fit options might not be the correct ones anymore .\n"
     ]
    }
   ],
   "source": [
    "# Display the results\n",
    "print(huber_results.summary())"
   ]
  },
  {
   "cell_type": "markdown",
   "id": "620878ce",
   "metadata": {},
   "source": [
    "## Tukey's Biweight Regression"
   ]
  },
  {
   "cell_type": "markdown",
   "id": "b7dc08ea",
   "metadata": {},
   "source": [
    "### Data Loading"
   ]
  },
  {
   "cell_type": "markdown",
   "id": "facce352",
   "metadata": {},
   "source": [
    "Let's load the same synthetic data for this Tukey's Biweight Regression example."
   ]
  },
  {
   "cell_type": "code",
   "execution_count": 16,
   "id": "5f34dd5d",
   "metadata": {},
   "outputs": [],
   "source": [
    "# Generate synthetic data (if not already done)\n",
    "np.random.seed(42)\n",
    "X = np.random.rand(100, 2)\n",
    "y = 2 * X[:, 0] + 3 * X[:, 1] + np.random.normal(0, 0.5, 100)"
   ]
  },
  {
   "cell_type": "markdown",
   "id": "727ec818",
   "metadata": {},
   "source": [
    "### Model Fitting"
   ]
  },
  {
   "cell_type": "markdown",
   "id": "abf04093",
   "metadata": {},
   "source": [
    "Now, we'll fit a Tukey's Biweight Regression model to the data:"
   ]
  },
  {
   "cell_type": "code",
   "execution_count": 17,
   "id": "a922735d",
   "metadata": {},
   "outputs": [],
   "source": [
    "# Add a constant term to the independent variables (if not already done)\n",
    "X = sm.add_constant(X)\n",
    "\n",
    "# Fit a Tukey's Biweight Regression model\n",
    "tukey_model = sm.RLM(y, X, M=sm.robust.norms.TukeyBiweight())\n",
    "tukey_results = tukey_model.fit()"
   ]
  },
  {
   "cell_type": "markdown",
   "id": "ba121130",
   "metadata": {},
   "source": [
    "### Interpretation of Results"
   ]
  },
  {
   "cell_type": "markdown",
   "id": "1b24867c",
   "metadata": {},
   "source": [
    "Examine the results of Tukey's Biweight Regression model, similar to the Huber Regression example."
   ]
  },
  {
   "cell_type": "code",
   "execution_count": 18,
   "id": "90ba2792",
   "metadata": {},
   "outputs": [
    {
     "name": "stdout",
     "output_type": "stream",
     "text": [
      "                    Robust linear Model Regression Results                    \n",
      "==============================================================================\n",
      "Dep. Variable:                      y   No. Observations:                  100\n",
      "Model:                            RLM   Df Residuals:                       97\n",
      "Method:                          IRLS   Df Model:                            2\n",
      "Norm:                   TukeyBiweight                                         \n",
      "Scale Est.:                       mad                                         \n",
      "Cov Type:                          H1                                         \n",
      "Date:                Sun, 05 Nov 2023                                         \n",
      "Time:                        15:54:21                                         \n",
      "No. Iterations:                    14                                         \n",
      "==============================================================================\n",
      "                 coef    std err          z      P>|z|      [0.025      0.975]\n",
      "------------------------------------------------------------------------------\n",
      "const         -0.0627      0.128     -0.492      0.623      -0.313       0.187\n",
      "x1             2.1347      0.163     13.120      0.000       1.816       2.454\n",
      "x2             3.0673      0.174     17.612      0.000       2.726       3.409\n",
      "==============================================================================\n",
      "\n",
      "If the model instance has been used for another fit with different fit parameters, then the fit options might not be the correct ones anymore .\n"
     ]
    }
   ],
   "source": [
    "# Display the results\n",
    "print(tukey_results.summary())"
   ]
  },
  {
   "cell_type": "markdown",
   "id": "da608c16",
   "metadata": {},
   "source": [
    "## Bisquare (Andrew's Wave) Regression"
   ]
  },
  {
   "cell_type": "markdown",
   "id": "4e05cb6b",
   "metadata": {},
   "source": [
    "### Data Loading"
   ]
  },
  {
   "cell_type": "markdown",
   "id": "1e5a9ddc",
   "metadata": {},
   "source": [
    "We'll use the same synthetic dataset once more for Bisquare Regression."
   ]
  },
  {
   "cell_type": "code",
   "execution_count": 19,
   "id": "551bfe54",
   "metadata": {},
   "outputs": [],
   "source": [
    "# Generate synthetic data (if not already done)\n",
    "np.random.seed(42)\n",
    "X = np.random.rand(100, 2)\n",
    "y = 2 * X[:, 0] + 3 * X[:, 1] + np.random.normal(0, 0.5, 100)"
   ]
  },
  {
   "cell_type": "markdown",
   "id": "f8ced067",
   "metadata": {},
   "source": [
    "### Model Fitting"
   ]
  },
  {
   "cell_type": "markdown",
   "id": "c4fa121e",
   "metadata": {},
   "source": [
    "Now, we'll fit a Bisquare (Andrew's Wave) Regression model to the data:"
   ]
  },
  {
   "cell_type": "code",
   "execution_count": 20,
   "id": "0b408ef6",
   "metadata": {},
   "outputs": [],
   "source": [
    "# Add a constant term to the independent variables (if not already done)\n",
    "X = sm.add_constant(X)\n",
    "\n",
    "# Fit a Bisquare (Andrew's Wave) Regression model\n",
    "bisquare_model = sm.RLM(y, X, M=sm.robust.norms.AndrewWave())\n",
    "bisquare_results = bisquare_model.fit()"
   ]
  },
  {
   "cell_type": "markdown",
   "id": "fbaf5ed1",
   "metadata": {},
   "source": [
    "### Interpretation of Results"
   ]
  },
  {
   "cell_type": "markdown",
   "id": "9a7f1afb",
   "metadata": {},
   "source": [
    "Examine the results of the Bisquare (Andrew's Wave) Regression model."
   ]
  },
  {
   "cell_type": "code",
   "execution_count": 21,
   "id": "dbd3f439",
   "metadata": {},
   "outputs": [
    {
     "name": "stdout",
     "output_type": "stream",
     "text": [
      "                    Robust linear Model Regression Results                    \n",
      "==============================================================================\n",
      "Dep. Variable:                      y   No. Observations:                  100\n",
      "Model:                            RLM   Df Residuals:                       97\n",
      "Method:                          IRLS   Df Model:                            2\n",
      "Norm:                      AndrewWave                                         \n",
      "Scale Est.:                       mad                                         \n",
      "Cov Type:                          H1                                         \n",
      "Date:                Sun, 05 Nov 2023                                         \n",
      "Time:                        15:54:21                                         \n",
      "No. Iterations:                    14                                         \n",
      "==============================================================================\n",
      "                 coef    std err          z      P>|z|      [0.025      0.975]\n",
      "------------------------------------------------------------------------------\n",
      "const         -0.0625      0.128     -0.490      0.624      -0.313       0.188\n",
      "x1             2.1346      0.163     13.104      0.000       1.815       2.454\n",
      "x2             3.0670      0.174     17.589      0.000       2.725       3.409\n",
      "==============================================================================\n",
      "\n",
      "If the model instance has been used for another fit with different fit parameters, then the fit options might not be the correct ones anymore .\n"
     ]
    }
   ],
   "source": [
    "# Display the results\n",
    "print(bisquare_results.summary())"
   ]
  },
  {
   "cell_type": "markdown",
   "id": "6b86ec68",
   "metadata": {},
   "source": [
    "## Summary"
   ]
  },
  {
   "cell_type": "markdown",
   "id": "a2294e2b",
   "metadata": {},
   "source": [
    "These code examples demonstrate how to implement Huber, Tukey's Biweight, and Bisquare Regression using the `statsmodels` library in Python. Each method provides resistance to outliers, and you can interpret the results to make robust parameter estimates."
   ]
  },
  {
   "cell_type": "markdown",
   "id": "55467774",
   "metadata": {},
   "source": []
  },
  {
   "cell_type": "markdown",
   "id": "1fdaa046",
   "metadata": {},
   "source": [
    "# Model Evaluation for Robust Regression"
   ]
  },
  {
   "cell_type": "markdown",
   "id": "9f9814e9",
   "metadata": {},
   "source": [
    "Evaluating the performance of Robust Regression models is crucial to ensure that the chosen method effectively handles outliers and heteroscedasticity. In this section, we will discuss how to evaluate the performance of Robust Regression models and assess their robustness to outliers and heteroscedasticity."
   ]
  },
  {
   "cell_type": "markdown",
   "id": "2f9be258",
   "metadata": {},
   "source": [
    "## Robustness to Outliers"
   ]
  },
  {
   "cell_type": "markdown",
   "id": "fd40d8c0",
   "metadata": {},
   "source": [
    "Robustness to outliers is a key criterion when evaluating the performance of Robust Regression models. To assess the model's ability to handle outliers, consider the following steps:"
   ]
  },
  {
   "cell_type": "markdown",
   "id": "15f38848",
   "metadata": {},
   "source": [
    "### Residual Analysis"
   ]
  },
  {
   "cell_type": "markdown",
   "id": "b3098ce3",
   "metadata": {},
   "source": [
    "- Calculate the residuals (differences between observed and predicted values) for the Robust Regression model.\n",
    "- Examine the distribution of residuals. In a robust model, you should see that the residuals are less sensitive to outliers compared to traditional models like OLS."
   ]
  },
  {
   "cell_type": "markdown",
   "id": "21eb8463",
   "metadata": {},
   "source": [
    "### Outlier Detection"
   ]
  },
  {
   "cell_type": "markdown",
   "id": "92344b02",
   "metadata": {},
   "source": [
    "- Use outlier detection techniques like the Tukey Fences or the Z-score to identify potential outliers in the residuals.\n",
    "- Evaluate the model's performance in terms of correctly handling and down-weighting outliers."
   ]
  },
  {
   "cell_type": "markdown",
   "id": "09c68a29",
   "metadata": {},
   "source": [
    "### Comparisons with OLS"
   ]
  },
  {
   "cell_type": "markdown",
   "id": "ad450b8a",
   "metadata": {},
   "source": [
    "- Compare the Robust Regression model's performance to that of Ordinary Least Squares (OLS) regression.\n",
    "- Determine if the Robust Regression model provides more reliable parameter estimates when outliers are present."
   ]
  },
  {
   "cell_type": "markdown",
   "id": "76481211",
   "metadata": {},
   "source": [
    "## Robustness to Heteroscedasticity"
   ]
  },
  {
   "cell_type": "markdown",
   "id": "745a535d",
   "metadata": {},
   "source": [
    "Robust Regression models are also expected to be robust to heteroscedasticity, where the variance of the residuals varies with the predictors. To assess heteroscedasticity robustness:"
   ]
  },
  {
   "cell_type": "markdown",
   "id": "9acddf46",
   "metadata": {},
   "source": [
    "### Residual Plot"
   ]
  },
  {
   "cell_type": "markdown",
   "id": "876b8527",
   "metadata": {},
   "source": [
    "- Create a residual plot to visualize the spread of residuals at different levels of the predictors.\n",
    "- In a robust model, you should observe less variability in residuals across the predictor range compared to traditional models."
   ]
  },
  {
   "cell_type": "markdown",
   "id": "3e69388f",
   "metadata": {},
   "source": [
    "### White Test"
   ]
  },
  {
   "cell_type": "markdown",
   "id": "0f03c5c0",
   "metadata": {},
   "source": [
    "- Apply statistical tests like the White Test for Heteroscedasticity to formally evaluate whether heteroscedasticity is present.\n",
    "- Robust models should show lower significance in these tests compared to non-robust models."
   ]
  },
  {
   "cell_type": "markdown",
   "id": "91354f71",
   "metadata": {},
   "source": [
    "### Comparison to OLS"
   ]
  },
  {
   "cell_type": "markdown",
   "id": "00eaa485",
   "metadata": {},
   "source": [
    "- Compare the performance of the Robust Regression model with that of OLS in terms of handling heteroscedasticity.\n",
    "- Determine if the Robust Regression model provides more reliable parameter estimates when heteroscedasticity is present."
   ]
  },
  {
   "cell_type": "markdown",
   "id": "6020e87e",
   "metadata": {},
   "source": [
    "## Model Selection"
   ]
  },
  {
   "cell_type": "markdown",
   "id": "3eac5207",
   "metadata": {},
   "source": [
    "In some cases, you may need to select the most appropriate Robust Regression method. Model selection can be based on a combination of considerations, including the extent of outlier resistance required, the degree of heteroscedasticity, and the nature of the data."
   ]
  },
  {
   "cell_type": "markdown",
   "id": "20af4e14",
   "metadata": {},
   "source": [
    "## Cross-Validation"
   ]
  },
  {
   "cell_type": "markdown",
   "id": "58ecb98d",
   "metadata": {},
   "source": [
    "Applying cross-validation techniques, such as k-fold cross-validation, can help assess the generalization performance of the Robust Regression models. Cross-validation provides insights into how the models perform on unseen data and can help identify potential overfitting."
   ]
  },
  {
   "cell_type": "markdown",
   "id": "7c395cd7",
   "metadata": {},
   "source": [
    "## Real-World Data Tests"
   ]
  },
  {
   "cell_type": "markdown",
   "id": "e32920e9",
   "metadata": {},
   "source": [
    "For real-world applications, it's advisable to test the selected Robust Regression model on new, independent datasets. This ensures that the model performs well and maintains its robustness when applied to actual data."
   ]
  },
  {
   "cell_type": "markdown",
   "id": "dc134c96",
   "metadata": {},
   "source": [
    "# Comparison with OLS"
   ]
  },
  {
   "cell_type": "markdown",
   "id": "3e5aa425",
   "metadata": {},
   "source": [
    "In this section, we will compare Robust Regression with traditional Ordinary Least Squares (OLS) regression. Understanding the differences between these two methods is crucial in determining when and why one might prefer Robust Regression."
   ]
  },
  {
   "cell_type": "markdown",
   "id": "9ef48eac",
   "metadata": {},
   "source": [
    "## Differences between Robust Regression and OLS"
   ]
  },
  {
   "cell_type": "markdown",
   "id": "c7e3bf56",
   "metadata": {},
   "source": [
    "### Handling Outliers"
   ]
  },
  {
   "cell_type": "markdown",
   "id": "fea2ca0c",
   "metadata": {},
   "source": [
    "**OLS:**\n",
    "- OLS is highly sensitive to outliers. Even a single outlier can significantly impact the parameter estimates, leading to biased results.\n",
    "\n",
    "**Robust Regression:**\n",
    "- Robust Regression methods are designed to be less affected by outliers. They assign lower weights to outliers and, in some cases, use different loss functions to minimize their influence."
   ]
  },
  {
   "cell_type": "markdown",
   "id": "91733661",
   "metadata": {},
   "source": [
    "### Resistance to Heteroscedasticity"
   ]
  },
  {
   "cell_type": "markdown",
   "id": "efb51431",
   "metadata": {},
   "source": [
    "**OLS:**\n",
    "- OLS assumes homoscedasticity, which means it assumes that the variance of the residuals is constant across all levels of the predictor variable. When heteroscedasticity is present, OLS estimates can be unreliable.\n",
    "\n",
    "**Robust Regression:**\n",
    "- Robust Regression models are more robust to heteroscedasticity. They can handle situations where the spread of residuals varies with the predictors, making them a better choice in such cases."
   ]
  },
  {
   "cell_type": "markdown",
   "id": "e9af292d",
   "metadata": {},
   "source": [
    "### Loss Functions"
   ]
  },
  {
   "cell_type": "markdown",
   "id": "32c1cf85",
   "metadata": {},
   "source": [
    "**OLS:**\n",
    "- OLS uses the L2 (least squares) loss function, which minimizes the sum of squared residuals. This loss function is sensitive to outliers.\n",
    "\n",
    "**Robust Regression:**\n",
    "- Robust Regression methods use different loss functions, such as L1 (absolute deviation), Huber, Tukey, or Bisquare. These loss functions are less affected by outliers, providing resistance to extreme values."
   ]
  },
  {
   "cell_type": "markdown",
   "id": "710ff4b5",
   "metadata": {},
   "source": [
    "### Weighting Observations"
   ]
  },
  {
   "cell_type": "markdown",
   "id": "21682ad1",
   "metadata": {},
   "source": [
    "**OLS:**\n",
    "- OLS assigns equal weights to all observations during parameter estimation, treating all data points equally.\n",
    "\n",
    "**Robust Regression:**\n",
    "- Robust Regression models assign weights to observations based on their residuals. Outliers are typically given lower weights, reducing their impact on parameter estimates."
   ]
  },
  {
   "cell_type": "markdown",
   "id": "301f1542",
   "metadata": {},
   "source": [
    "## When to Prefer Robust Regression"
   ]
  },
  {
   "cell_type": "markdown",
   "id": "342e0554",
   "metadata": {},
   "source": [
    "Robust Regression is preferred in the following scenarios:\n",
    "\n",
    "1. **Outlier-Prone Data:** When the dataset contains outliers or extreme values, Robust Regression is more appropriate as it mitigates the distortion of results caused by outliers.\n",
    "\n",
    "2. **Heteroscedasticity:** In cases where the variance of residuals varies across different levels of predictors, Robust Regression provides more reliable parameter estimates.\n",
    "\n",
    "3. **Resistant to Assumption Violations:** When traditional OLS assumptions, such as normality and homoscedasticity, are violated, Robust Regression can provide more accurate and robust results.\n",
    "\n",
    "4. **Real-World Data:** In real-world applications, data is often messy and may not conform to ideal assumptions. Robust Regression is better suited to handle such situations.\n",
    "\n",
    "5. **Reducing Influence of Outliers:** When the presence of outliers is important but should not dominate the results, Robust Regression can down-weight outliers appropriately."
   ]
  },
  {
   "cell_type": "markdown",
   "id": "3d93bb18",
   "metadata": {},
   "source": [
    "## When to Use OLS"
   ]
  },
  {
   "cell_type": "markdown",
   "id": "6d925994",
   "metadata": {},
   "source": [
    "OLS regression is still valuable and should be considered in the following scenarios:\n",
    "\n",
    "1. **Clean Data:** When you are confident that your data is free from outliers and adheres to the assumptions of OLS, traditional regression methods can be used for their simplicity and interpretability.\n",
    "\n",
    "2. **Efficiency:** In cases where data is normally distributed, homoscedastic, and free from outliers, OLS regression can provide efficient parameter estimates.\n",
    "\n",
    "3. **Statistical Assumptions Met:** When your analysis requires adhering strictly to classical linear regression assumptions and these assumptions are met, OLS is a valid choice."
   ]
  },
  {
   "cell_type": "markdown",
   "id": "8ff00c99",
   "metadata": {},
   "source": [
    "## Summary"
   ]
  },
  {
   "cell_type": "markdown",
   "id": "4e8fdc09",
   "metadata": {},
   "source": [
    "Robust Regression is a valuable alternative to OLS when dealing with real-world data that may not conform to ideal assumptions. It is less sensitive to outliers, better equipped to handle heteroscedasticity, and can provide reliable parameter estimates when OLS assumptions are violated. When analyzing data prone to outliers or when traditional assumptions are not met, Robust Regression is a preferred choice."
   ]
  },
  {
   "cell_type": "markdown",
   "id": "da89c474",
   "metadata": {},
   "source": [
    "# Outlier Detection and Handling"
   ]
  },
  {
   "cell_type": "markdown",
   "id": "92ef2ddd",
   "metadata": {},
   "source": [
    "Outliers can significantly impact the results of a regression analysis, leading to biased parameter estimates and reduced model accuracy. In this section, we will discuss methods for outlier detection and how Robust Regression handles outliers. We will also provide code examples and visualizations to illustrate outlier identification and treatment."
   ]
  },
  {
   "cell_type": "markdown",
   "id": "de17c674",
   "metadata": {},
   "source": [
    "## Outlier Detection Methods"
   ]
  },
  {
   "cell_type": "markdown",
   "id": "74c266fa",
   "metadata": {},
   "source": [
    "### Visual Inspection"
   ]
  },
  {
   "cell_type": "markdown",
   "id": "23b6578b",
   "metadata": {},
   "source": [
    "Visual inspection involves creating scatter plots and box plots to identify potential outliers. Outliers can be visually identified as data points that deviate significantly from the main cluster of data."
   ]
  },
  {
   "cell_type": "markdown",
   "id": "9764c826",
   "metadata": {},
   "source": [
    "### Z-Score"
   ]
  },
  {
   "cell_type": "markdown",
   "id": "e91d3bda",
   "metadata": {},
   "source": [
    "The Z-score is a standardized measure that quantifies how many standard deviations a data point is away from the mean. Data points with Z-scores exceeding a certain threshold (e.g., 2 or 3) are considered outliers."
   ]
  },
  {
   "cell_type": "markdown",
   "id": "7bf797ab",
   "metadata": {},
   "source": [
    "### Tukey's Fences"
   ]
  },
  {
   "cell_type": "markdown",
   "id": "4224d450",
   "metadata": {},
   "source": [
    "Tukey's Fences method defines outliers as data points that fall below $Q1 - k \\cdot IQR$ or above $Q3 + k \\cdot IQR$, where $Q1$ and $Q3$ are the first and third quartiles, and $IQR$ is the interquartile range. $k$ is a user-defined constant (typically 1.5 or 3)."
   ]
  },
  {
   "cell_type": "markdown",
   "id": "1ff0a9ab",
   "metadata": {},
   "source": [
    "### Mahalanobis Distance"
   ]
  },
  {
   "cell_type": "markdown",
   "id": "b1299930",
   "metadata": {},
   "source": [
    "The Mahalanobis distance is a measure of the distance of a data point from the center of the data cloud, taking into account the covariance structure of the data. Data points with high Mahalanobis distances are considered outliers."
   ]
  },
  {
   "cell_type": "markdown",
   "id": "79e90599",
   "metadata": {},
   "source": [
    "## Handling Outliers with Robust Regression"
   ]
  },
  {
   "cell_type": "markdown",
   "id": "1c3fdfb4",
   "metadata": {},
   "source": [
    "Robust Regression methods are specifically designed to handle outliers. They achieve this by assigning lower weights to outlier observations. Let's explore how to handle outliers using Robust Regression:"
   ]
  },
  {
   "cell_type": "markdown",
   "id": "f8b665e4",
   "metadata": {},
   "source": [
    "### Huber Regression"
   ]
  },
  {
   "cell_type": "markdown",
   "id": "c20805d7",
   "metadata": {},
   "source": [
    "Huber Regression uses a combination of quadratic and linear loss functions. It assigns lower weights to outliers, reducing their influence on parameter estimation."
   ]
  },
  {
   "cell_type": "markdown",
   "id": "49bbff27",
   "metadata": {},
   "source": [
    "### Tukey's Biweight Regression"
   ]
  },
  {
   "cell_type": "markdown",
   "id": "5f332fd8",
   "metadata": {},
   "source": [
    "Tukey's Biweight Regression down-weights extreme residuals using a weight function. This makes the model highly resistant to outliers."
   ]
  },
  {
   "cell_type": "markdown",
   "id": "c3f333ef",
   "metadata": {},
   "source": [
    "### Bisquare (Andrew's Wave) Regression"
   ]
  },
  {
   "cell_type": "markdown",
   "id": "57ffc1ba",
   "metadata": {},
   "source": [
    "Bisquare Regression assigns very low weights to observations with large residuals, providing strong resistance to the influence of outliers."
   ]
  },
  {
   "cell_type": "markdown",
   "id": "6fb35028",
   "metadata": {},
   "source": [
    "## Code Examples and Visualizations"
   ]
  },
  {
   "cell_type": "markdown",
   "id": "f5350faa",
   "metadata": {},
   "source": [
    "Let's illustrate outlier detection and handling using Python code and visualizations:"
   ]
  },
  {
   "cell_type": "markdown",
   "id": "4164746c",
   "metadata": {},
   "source": [
    "### Outlier Detection Example (Z-Score):"
   ]
  },
  {
   "cell_type": "code",
   "execution_count": 1,
   "id": "36ace927",
   "metadata": {},
   "outputs": [
    {
     "name": "stdout",
     "output_type": "stream",
     "text": [
      "Outliers: [10.]\n"
     ]
    }
   ],
   "source": [
    "import numpy as np\n",
    "\n",
    "# Generate example data with an outlier\n",
    "data = np.random.normal(0, 1, 100)\n",
    "data[0] = 10  # Introduce an outlier\n",
    "\n",
    "# Calculate Z-scores\n",
    "z_scores = (data - np.mean(data)) / np.std(data)\n",
    "\n",
    "# Identify and print outliers\n",
    "outliers = np.where(np.abs(z_scores) > 3)\n",
    "print(\"Outliers:\", data[outliers])"
   ]
  },
  {
   "cell_type": "markdown",
   "id": "09e876aa",
   "metadata": {},
   "source": [
    "### Outlier Handling with Robust Regression (Huber):"
   ]
  },
  {
   "cell_type": "code",
   "execution_count": 2,
   "id": "c1fd55e8",
   "metadata": {},
   "outputs": [
    {
     "name": "stdout",
     "output_type": "stream",
     "text": [
      "                    Robust linear Model Regression Results                    \n",
      "==============================================================================\n",
      "Dep. Variable:                      y   No. Observations:                  100\n",
      "Model:                            RLM   Df Residuals:                       97\n",
      "Method:                          IRLS   Df Model:                            2\n",
      "Norm:                          HuberT                                         \n",
      "Scale Est.:                       mad                                         \n",
      "Cov Type:                          H1                                         \n",
      "Date:                Mon, 06 Nov 2023                                         \n",
      "Time:                        13:23:03                                         \n",
      "No. Iterations:                    18                                         \n",
      "==============================================================================\n",
      "                 coef    std err          z      P>|z|      [0.025      0.975]\n",
      "------------------------------------------------------------------------------\n",
      "const         -0.0968      0.130     -0.747      0.455      -0.351       0.157\n",
      "x1             2.1251      0.165     12.850      0.000       1.801       2.449\n",
      "x2             3.1786      0.177     17.957      0.000       2.832       3.526\n",
      "==============================================================================\n",
      "\n",
      "If the model instance has been used for another fit with different fit parameters, then the fit options might not be the correct ones anymore .\n"
     ]
    }
   ],
   "source": [
    "import numpy as np\n",
    "import statsmodels.api as sm\n",
    "\n",
    "# Generate synthetic data with outliers\n",
    "np.random.seed(42)\n",
    "X = np.random.rand(100, 2)\n",
    "y = 2 * X[:, 0] + 3 * X[:, 1] + np.random.normal(0, 0.5, 100)\n",
    "y[0] = 20  # Introduce an outlier\n",
    "\n",
    "# Fit a Huber Regression model\n",
    "X = sm.add_constant(X)\n",
    "huber_model = sm.RLM(y, X, M=sm.robust.norms.HuberT())\n",
    "huber_results = huber_model.fit()\n",
    "\n",
    "# Print the model summary\n",
    "print(huber_results.summary())"
   ]
  },
  {
   "cell_type": "markdown",
   "id": "c5ef1eec",
   "metadata": {},
   "source": [
    "In the code examples, we detect outliers using Z-scores and handle outliers with a Huber Regression model. Visualizations can further enhance your understanding of these processes."
   ]
  },
  {
   "cell_type": "markdown",
   "id": "aace3958",
   "metadata": {},
   "source": [
    "## Summary\n",
    "\n",
    "Outlier detection is essential for identifying and handling data points that can impact the accuracy of a regression model. Robust Regression methods are specifically designed to handle outliers by assigning lower weights to these observations. By using these methods, you can achieve more reliable parameter estimates even in the presence of extreme values."
   ]
  },
  {
   "cell_type": "markdown",
   "id": "7a1e4d2e",
   "metadata": {},
   "source": [
    "# Heteroscedasticity and Homoscedasticity"
   ]
  },
  {
   "cell_type": "markdown",
   "id": "462cd760",
   "metadata": {},
   "source": [
    "In the context of regression analysis, the terms \"heteroscedasticity\" and \"homoscedasticity\" describe the behavior of the variance of the residuals (or errors) in relation to the predictor variables. Understanding these concepts is essential to assess the reliability of regression models."
   ]
  },
  {
   "cell_type": "markdown",
   "id": "851e6996",
   "metadata": {},
   "source": [
    "## Heteroscedasticity (Varying Variance)"
   ]
  },
  {
   "cell_type": "markdown",
   "id": "24ba1022",
   "metadata": {},
   "source": [
    "**Heteroscedasticity** refers to a situation where the variance of the residuals is not constant across the range of predictor variables. In other words, the spread or dispersion of residuals systematically varies as you move along the predictor values. Heteroscedasticity often manifests as a fan-shaped or funnel-shaped pattern in residual plots.\n",
    "\n",
    "**Characteristics of Heteroscedasticity:**\n",
    "\n",
    "- Residuals exhibit unequal dispersion.\n",
    "- The spread of residuals increases or decreases systematically with the values of the predictors.\n",
    "- It violates the assumption of constant variance in Ordinary Least Squares (OLS) regression.\n",
    "\n",
    "**Consequences of Heteroscedasticity:**\n",
    "\n",
    "- Inference based on standard errors can be unreliable, leading to incorrect p-values and confidence intervals.\n",
    "- Parameter estimates may be biased or inefficient.\n",
    "- Model assumptions are violated, which can impact the validity of statistical tests."
   ]
  },
  {
   "cell_type": "markdown",
   "id": "c1de1f5f",
   "metadata": {},
   "source": [
    "## Homoscedasticity (Constant Variance)"
   ]
  },
  {
   "cell_type": "markdown",
   "id": "d51f700d",
   "metadata": {},
   "source": [
    "**Homoscedasticity**, on the other hand, implies that the variance of the residuals is constant and uniform across all levels of predictor variables. In this case, the spread of residuals remains consistent, and there is no systematic change in variance with respect to predictors. Homoscedasticity is a fundamental assumption of OLS regression.\n",
    "\n",
    "**Characteristics of Homoscedasticity:**\n",
    "\n",
    "- Residuals exhibit uniform dispersion.\n",
    "- The spread of residuals remains constant and does not change systematically with predictor values.\n",
    "- It adheres to the assumption of constant variance in OLS regression.\n",
    "\n",
    "**Advantages of Homoscedasticity:**\n",
    "\n",
    "- Inference based on standard errors is reliable, and statistical tests are valid.\n",
    "- Parameter estimates are unbiased and efficient."
   ]
  },
  {
   "cell_type": "markdown",
   "id": "506a14e2",
   "metadata": {},
   "source": [
    "## Handling Heteroscedasticity with Robust Regression"
   ]
  },
  {
   "cell_type": "markdown",
   "id": "98b922f5",
   "metadata": {},
   "source": [
    "Robust Regression methods are designed to handle heteroscedasticity effectively. Here's how:\n",
    "\n",
    "- **Weighted Least Squares:** Robust Regression models use weighted least squares, giving higher weight to observations with smaller residuals. This down-weights the impact of observations with larger residuals, effectively mitigating the effects of heteroscedasticity.\n",
    "\n",
    "- **Robust Estimation of Standard Errors:** Robust Regression models provide robust estimates of standard errors that are less sensitive to the presence of heteroscedasticity. This ensures reliable inference.\n",
    "\n",
    "- **Model Effectiveness:** Robust Regression models can provide more accurate parameter estimates even when the assumption of homoscedasticity is violated."
   ]
  },
  {
   "cell_type": "markdown",
   "id": "8ee08c68",
   "metadata": {},
   "source": [
    "## Summary"
   ]
  },
  {
   "cell_type": "markdown",
   "id": "3c8ec4db",
   "metadata": {},
   "source": [
    "Understanding the concepts of heteroscedasticity and homoscedasticity is essential for assessing the reliability of regression models. Heteroscedasticity, characterized by varying variance, can lead to unreliable inference and biased parameter estimates. Robust Regression models offer a robust solution to handle heteroscedasticity by employing weighted least squares and robust standard error estimation."
   ]
  },
  {
   "cell_type": "markdown",
   "id": "023a36fb",
   "metadata": {},
   "source": [
    "# Real-Life Use Cases"
   ]
  },
  {
   "cell_type": "markdown",
   "id": "de52d9fa",
   "metadata": {},
   "source": [
    "Robust Regression finds applications in various fields and industries where traditional Ordinary Least Squares (OLS) regression may not perform optimally due to outliers, heteroscedasticity, or data that deviates from ideal assumptions. Let's explore some real-life use cases where Robust Regression is commonly employed:"
   ]
  },
  {
   "cell_type": "markdown",
   "id": "9135c9dc",
   "metadata": {},
   "source": [
    "## Finance and Economics"
   ]
  },
  {
   "cell_type": "markdown",
   "id": "ea58e197",
   "metadata": {},
   "source": [
    "****Use Case: Financial Market Analysis****\n",
    "\n",
    "- **Analysis:** In financial market analysis, Robust Regression is used to model and analyze relationships between various financial indicators, such as stock prices, interest rates, and economic factors.\n",
    "- **Benefits:** Robust Regression provides reliable parameter estimates even in the presence of financial anomalies and extreme market events, making it suitable for risk assessment and portfolio optimization."
   ]
  },
  {
   "cell_type": "markdown",
   "id": "957551d2",
   "metadata": {},
   "source": [
    "## Environmental Science"
   ]
  },
  {
   "cell_type": "markdown",
   "id": "d45ce8e5",
   "metadata": {},
   "source": [
    "****Use Case: Climate Change Analysis****\n",
    "\n",
    "- **Analysis:** Robust Regression is applied to analyze the impact of environmental variables on climate change, such as temperature, precipitation, and greenhouse gas emissions.\n",
    "- **Benefits:** By handling data outliers and variable uncertainties, Robust Regression helps provide robust climate models, allowing researchers to make accurate predictions and policy recommendations."
   ]
  },
  {
   "cell_type": "markdown",
   "id": "f55ee741",
   "metadata": {},
   "source": [
    "## Medicine and Healthcare"
   ]
  },
  {
   "cell_type": "markdown",
   "id": "3d6f202d",
   "metadata": {},
   "source": [
    "****Use Case: Medical Research****\n",
    "\n",
    "- **Analysis:** In medical research, Robust Regression is used to study the relationships between patient data, treatment outcomes, and clinical variables.\n",
    "- **Benefits:** Robust Regression ensures that outliers in medical datasets, such as extreme patient responses to treatment, do not unduly influence the findings, leading to more accurate medical research outcomes."
   ]
  },
  {
   "cell_type": "markdown",
   "id": "35a3e7d1",
   "metadata": {},
   "source": [
    "## Marketing and Advertising"
   ]
  },
  {
   "cell_type": "markdown",
   "id": "c443aebd",
   "metadata": {},
   "source": [
    "****Use Case: Advertising Effectiveness****\n",
    "\n",
    "- **Analysis:** Robust Regression is applied to analyze the effectiveness of advertising campaigns and their impact on consumer behavior and product sales.\n",
    "- **Benefits:** It provides robust insights into advertising effectiveness, even when certain campaigns have outlier-level success or failure."
   ]
  },
  {
   "cell_type": "markdown",
   "id": "c3e91e5c",
   "metadata": {},
   "source": [
    "## Manufacturing and Quality Control"
   ]
  },
  {
   "cell_type": "markdown",
   "id": "86943d2e",
   "metadata": {},
   "source": [
    "****Use Case: Quality Control Analysis****\n",
    "\n",
    "- **Analysis:** In manufacturing, Robust Regression is used to analyze the relationships between production parameters and product quality.\n",
    "- **Benefits:** It helps ensure that the production process is robust to variations and outliers, leading to higher product quality and reduced defects."
   ]
  },
  {
   "cell_type": "markdown",
   "id": "625f1d73",
   "metadata": {},
   "source": [
    "## Education and Social Sciences"
   ]
  },
  {
   "cell_type": "markdown",
   "id": "08bdeb17",
   "metadata": {},
   "source": [
    "****Use Case: Educational Outcomes****\n",
    "\n",
    "- **Analysis:** Robust Regression is employed in educational research to understand the impact of various factors on students' academic performance.\n",
    "- **Benefits:** It accommodates variations in student performance and socioeconomic factors, leading to more accurate insights for educational policymakers."
   ]
  },
  {
   "cell_type": "markdown",
   "id": "fadcc85e",
   "metadata": {},
   "source": [
    "## Retail and Sales"
   ]
  },
  {
   "cell_type": "markdown",
   "id": "3b046258",
   "metadata": {},
   "source": [
    "****Use Case: Sales Forecasting****\n",
    "\n",
    "- **Analysis:** Retail businesses use Robust Regression to forecast sales based on factors such as seasonal trends, promotions, and economic conditions.\n",
    "- **Benefits:** It provides reliable sales forecasts even in cases of extreme events, ensuring that inventory and marketing strategies are well-informed."
   ]
  },
  {
   "cell_type": "markdown",
   "id": "96cddb6b",
   "metadata": {},
   "source": [
    "## Psychology and Behavior Studies"
   ]
  },
  {
   "cell_type": "markdown",
   "id": "aa9048c5",
   "metadata": {},
   "source": [
    "****Use Case: Psychological Research****\n",
    "\n",
    "- **Analysis:** Robust Regression is applied in psychology to study the relationships between psychological variables and behavioral outcomes.\n",
    "- **Benefits:** It accommodates outliers and extreme behaviors in the data, ensuring that psychological models accurately reflect real-world behavior."
   ]
  },
  {
   "cell_type": "markdown",
   "id": "c366d594",
   "metadata": {},
   "source": [
    "## Urban Planning and Transportation"
   ]
  },
  {
   "cell_type": "markdown",
   "id": "cce00a03",
   "metadata": {},
   "source": [
    "****Use Case: Traffic Flow Analysis****\n",
    "\n",
    "- **Analysis:** Urban planners use Robust Regression to study traffic flow and congestion patterns based on variables such as population growth and road infrastructure.\n",
    "- **Benefits:** It provides robust traffic flow predictions even in cases of unexpected traffic events, contributing to better urban planning."
   ]
  },
  {
   "cell_type": "markdown",
   "id": "09cd57ba",
   "metadata": {},
   "source": [
    "## Agriculture and Crop Yield Prediction"
   ]
  },
  {
   "cell_type": "markdown",
   "id": "a51d30db",
   "metadata": {},
   "source": [
    "****Use Case: Crop Yield Analysis****\n",
    "\n",
    "- **Analysis:** Robust Regression is applied to analyze the impact of environmental factors on crop yield, helping farmers make informed decisions.\n",
    "- **Benefits:** It accommodates extreme weather conditions and outliers in crop data, enabling more accurate yield predictions."
   ]
  },
  {
   "cell_type": "markdown",
   "id": "a7e6e600",
   "metadata": {},
   "source": [
    "In each of these real-life use cases, Robust Regression is valuable for handling outliers, accommodating heteroscedasticity, and ensuring robust parameter estimates. This leads to more accurate analyses and predictions, making it a preferred choice in situations where traditional OLS regression may fall short."
   ]
  },
  {
   "cell_type": "markdown",
   "id": "d76bee91",
   "metadata": {},
   "source": [
    "# Content Summarization"
   ]
  },
  {
   "cell_type": "markdown",
   "id": "5913dc0c",
   "metadata": {},
   "source": [
    "**Introduction and Background:**\n",
    "\n",
    "In the introductory section, we set the stage for understanding Robust Regression. We discussed the limitations of Ordinary Least Squares (OLS) regression, such as sensitivity to outliers and heteroscedasticity, which motivates the need for robust alternatives.\n",
    "\n",
    "**Basic Linear Regression (OLS) Recap:**\n",
    "\n",
    "We provided a brief recap of OLS regression, which is the traditional linear regression method. OLS serves as a foundational understanding of linear modeling techniques.\n",
    "\n",
    "**Issues with OLS and Need for Robust Regression:**\n",
    "\n",
    "This section delves into the limitations of OLS regression, specifically addressing sensitivity to outliers and the assumption of homoscedasticity. We explained why these issues are critical in real-world data analysis and laid the groundwork for the robustness of Robust Regression.\n",
    "\n",
    "**Types of Robust Regression Methods:**\n",
    "\n",
    "We introduced various Robust Regression methods, including Huber, Tukey, and Bisquare. We explained their differences, advantages, and applications in handling outlier-prone data.\n",
    "\n",
    "**Code Examples for Robust Regression:**\n",
    "\n",
    "This section provided practical Python code examples to demonstrate how to implement Robust Regression using libraries like statsmodels or scikit-learn. It covered data loading, model fitting, and interpretation of results.\n",
    "\n",
    "**Model Evaluation for Robust Regression:**\n",
    "\n",
    "We discussed how to evaluate the performance of Robust Regression models, especially regarding their robustness to outliers and heteroscedasticity. This section emphasized the importance of cross-validation and real-world data tests.\n",
    "\n",
    "**Comparison with OLS:**\n",
    "\n",
    "We highlighted the differences between Robust Regression and OLS, emphasizing when and why one might prefer Robust Regression. The section underlined the advantages of Robust Regression in handling outlier-prone data.\n",
    "\n",
    "**Outlier Detection and Handling:**\n",
    "\n",
    "This section covered methods for outlier detection and how Robust Regression handles outliers. It included Python code examples and visualizations to illustrate the identification and treatment of outliers.\n",
    "\n",
    "**Heteroscedasticity and Homoscedasticity:**\n",
    "\n",
    "We explained the concepts of heteroscedasticity (varying variance) and homoscedasticity (constant variance) in the context of regression. We discussed how Robust Regression can help handle heteroscedasticity effectively.\n",
    "\n",
    "**Real-Life Use Cases:**\n",
    "\n",
    "In this section, we presented real-life applications and industry use cases where Robust Regression is commonly used. We explained the types of analysis performed in each use case and the benefits of using Robust Regression."
   ]
  },
  {
   "cell_type": "markdown",
   "id": "0ccb899e",
   "metadata": {},
   "source": [
    "# Conclusion"
   ]
  },
  {
   "cell_type": "markdown",
   "id": "5ac2704a",
   "metadata": {},
   "source": [
    "In this Jupyter Notebook, we explored the world of Robust Regression, a powerful technique for addressing the limitations of traditional OLS regression. Here are the key takeaways:\n",
    "\n",
    "- **Robust Regression:** Robust Regression methods are designed to handle outliers and heteroscedasticity, making them more suitable for real-world data analysis.\n",
    "\n",
    "- **Outlier Handling:** Robust Regression assigns lower weights to outliers, down-weighting their influence on parameter estimates rather than removing them.\n",
    "\n",
    "- **Heteroscedasticity:** Robust Regression effectively handles heteroscedasticity by using weighted least squares and robust standard error estimation.\n",
    "\n",
    "- **Applications:** Robust Regression finds applications in finance, environmental science, healthcare, marketing, manufacturing, education, retail, psychology, urban planning, and agriculture.\n",
    "\n",
    "- **Real-Life Use Cases:** Robust Regression is valuable in situations where OLS assumptions are violated, leading to more accurate analyses and predictions."
   ]
  }
 ],
 "metadata": {
  "kernelspec": {
   "display_name": "Python 3 (ipykernel)",
   "language": "python",
   "name": "python3"
  },
  "language_info": {
   "codemirror_mode": {
    "name": "ipython",
    "version": 3
   },
   "file_extension": ".py",
   "mimetype": "text/x-python",
   "name": "python",
   "nbconvert_exporter": "python",
   "pygments_lexer": "ipython3",
   "version": "3.11.5"
  },
  "toc": {
   "base_numbering": 1,
   "nav_menu": {},
   "number_sections": true,
   "sideBar": true,
   "skip_h1_title": false,
   "title_cell": "Table of Contents",
   "title_sidebar": "Contents",
   "toc_cell": true,
   "toc_position": {
    "height": "calc(100% - 180px)",
    "left": "10px",
    "top": "150px",
    "width": "255.594px"
   },
   "toc_section_display": true,
   "toc_window_display": true
  }
 },
 "nbformat": 4,
 "nbformat_minor": 5
}
