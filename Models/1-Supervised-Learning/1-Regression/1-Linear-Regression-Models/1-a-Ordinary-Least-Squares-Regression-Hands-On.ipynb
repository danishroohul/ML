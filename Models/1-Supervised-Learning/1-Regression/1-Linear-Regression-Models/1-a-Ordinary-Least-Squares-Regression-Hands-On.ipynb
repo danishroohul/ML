{
 "cells": [
  {
   "cell_type": "markdown",
   "id": "2b1bad9b",
   "metadata": {
    "toc": true
   },
   "source": [
    "<h1>Table of Contents<span class=\"tocSkip\"></span></h1>\n",
    "<div class=\"toc\"><ul class=\"toc-item\"><li><span><a href=\"#Hands-On-Exercises\" data-toc-modified-id=\"Hands-On-Exercises-1\"><span class=\"toc-item-num\">1&nbsp;&nbsp;</span>Hands-On Exercises</a></span><ul class=\"toc-item\"><li><span><a href=\"#Dataset-1:-Iris-Dataset-from-Scikit-Learn\" data-toc-modified-id=\"Dataset-1:-Iris-Dataset-from-Scikit-Learn-1.1\"><span class=\"toc-item-num\">1.1&nbsp;&nbsp;</span>Dataset 1: Iris Dataset from Scikit-Learn</a></span></li><li><span><a href=\"#Dataset-2:-Boston-Housing-Prices-Dataset\" data-toc-modified-id=\"Dataset-2:-Boston-Housing-Prices-Dataset-1.2\"><span class=\"toc-item-num\">1.2&nbsp;&nbsp;</span>Dataset 2: Boston Housing Prices Dataset</a></span></li></ul></li></ul></div>"
   ]
  },
  {
   "cell_type": "markdown",
   "id": "4877acf0",
   "metadata": {},
   "source": [
    "# Hands-On Exercises"
   ]
  },
  {
   "cell_type": "markdown",
   "id": "7487ac69",
   "metadata": {},
   "source": [
    "## Dataset 1: Iris Dataset from Scikit-Learn"
   ]
  },
  {
   "cell_type": "markdown",
   "id": "0293b717",
   "metadata": {},
   "source": [
    "**Dataset Source 1:** [Iris Dataset from Scikit-Learn](https://scikit-learn.org/stable/modules/generated/sklearn.datasets.load_iris.html)\n",
    "\n",
    "**Description:** Explore the Iris dataset from Scikit-Learn. Apply Ordinary Least Squares (OLS) regression to predict the sepal length based on the other features. Preprocess the data, build an OLS model, and assess the model's performance. Visualize the results."
   ]
  },
  {
   "cell_type": "markdown",
   "id": "4b2db2a1",
   "metadata": {},
   "source": [
    "## Dataset 2: Boston Housing Prices Dataset"
   ]
  },
  {
   "cell_type": "markdown",
   "id": "2e6f7a5b",
   "metadata": {},
   "source": [
    "**Dataset Source 2:** [Boston Housing Prices Dataset](https://scikit-learn.org/stable/datasets/index.html#boston-dataset)\n",
    "\n",
    "**Description:** Use the Boston Housing Prices dataset to perform a regression analysis. Apply OLS to predict housing prices. Explore the dataset, preprocess the data, build an OLS model, and evaluate its accuracy. Generate visualizations to interpret the predictions."
   ]
  }
 ],
 "metadata": {
  "kernelspec": {
   "display_name": "Python 3 (ipykernel)",
   "language": "python",
   "name": "python3"
  },
  "language_info": {
   "codemirror_mode": {
    "name": "ipython",
    "version": 3
   },
   "file_extension": ".py",
   "mimetype": "text/x-python",
   "name": "python",
   "nbconvert_exporter": "python",
   "pygments_lexer": "ipython3",
   "version": "3.11.5"
  },
  "toc": {
   "base_numbering": 1,
   "nav_menu": {},
   "number_sections": true,
   "sideBar": true,
   "skip_h1_title": false,
   "title_cell": "Table of Contents",
   "title_sidebar": "Contents",
   "toc_cell": true,
   "toc_position": {
    "height": "calc(100% - 180px)",
    "left": "10px",
    "top": "150px",
    "width": "255.594px"
   },
   "toc_section_display": true,
   "toc_window_display": true
  }
 },
 "nbformat": 4,
 "nbformat_minor": 5
}
