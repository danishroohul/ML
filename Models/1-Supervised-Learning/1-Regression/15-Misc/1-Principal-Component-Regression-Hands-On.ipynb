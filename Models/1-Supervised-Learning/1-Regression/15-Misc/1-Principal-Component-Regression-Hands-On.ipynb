{
 "cells": [
  {
   "cell_type": "markdown",
   "id": "eadc868b",
   "metadata": {
    "toc": true
   },
   "source": [
    "<h1>Table of Contents<span class=\"tocSkip\"></span></h1>\n",
    "<div class=\"toc\"><ul class=\"toc-item\"><li><span><a href=\"#Hands-On-Exercises\" data-toc-modified-id=\"Hands-On-Exercises-1\"><span class=\"toc-item-num\">1&nbsp;&nbsp;</span>Hands-On Exercises</a></span></li></ul></div>"
   ]
  },
  {
   "cell_type": "markdown",
   "id": "da330c50",
   "metadata": {},
   "source": [
    "# Hands-On Exercises"
   ]
  },
  {
   "cell_type": "markdown",
   "id": "e8568e82",
   "metadata": {},
   "source": [
    "**Exercise 1: Predicting Housing Prices**\n",
    "\n",
    "- **Dataset:** [Housing Price Dataset](https://www.kaggle.com/c/house-prices-advanced-regression-techniques)\n",
    "- **Source:** Kaggle\n",
    "- **Description:** The dataset contains information on various housing features such as square footage, number of bedrooms, and location. The task is to predict housing prices.\n",
    "- **Action:** Perform Principal Component Regression to predict housing prices. Determine the optimal number of principal components, evaluate the model's performance, and interpret the results."
   ]
  },
  {
   "cell_type": "markdown",
   "id": "d15c4c07",
   "metadata": {},
   "source": [
    "**Exercise 2: Medical Diagnosis**\n",
    "\n",
    "- **Dataset:** [Healthcare Dataset](https://archive.ics.uci.edu/ml/datasets.php)\n",
    "- **Source:** UCI Machine Learning Repository\n",
    "- **Description:** The dataset includes patient information such as age, medical history, and test results. The goal is to predict the likelihood of a particular medical condition.\n",
    "- **Action:** Apply Principal Component Regression to predict the medical condition. Explore the explained variance ratio to determine the number of components to retain. Evaluate the model and discuss the implications of the results."
   ]
  },
  {
   "cell_type": "markdown",
   "id": "10941c4d",
   "metadata": {},
   "source": [
    "**Exercise 3: Customer Churn Prediction**\n",
    "\n",
    "- **Dataset:** [Customer Churn Dataset](https://www.kaggle.com/c/customer-churn-prediction-2021)\n",
    "- **Source:** Kaggle\n",
    "- **Description:** The dataset contains customer information, service usage, and whether the customer churned (left the company). The task is to predict customer churn.\n",
    "- **Action:** Utilize Principal Component Regression to predict customer churn. Investigate the role of principal components, assess model performance, and provide actionable insights for reducing customer churn."
   ]
  },
  {
   "cell_type": "markdown",
   "id": "f84b0c41",
   "metadata": {},
   "source": [
    "**Exercise 4: Environmental Pollution Forecasting**\n",
    "\n",
    "- **Dataset:** [Air Quality Dataset](https://archive.ics.uci.edu/ml/datasets/Air+Quality)\n",
    "- **Source:** UCI Machine Learning Repository\n",
    "- **Description:** The dataset includes air quality indicators and weather-related variables. The goal is to forecast air pollution levels.\n",
    "- **Action:** Apply Principal Component Regression to forecast air pollution levels. Determine the optimal number of components to retain, assess the model's accuracy, and provide recommendations for pollution control."
   ]
  },
  {
   "cell_type": "code",
   "execution_count": null,
   "id": "990f55c6",
   "metadata": {},
   "outputs": [],
   "source": []
  }
 ],
 "metadata": {
  "kernelspec": {
   "display_name": "Python 3 (ipykernel)",
   "language": "python",
   "name": "python3"
  },
  "language_info": {
   "codemirror_mode": {
    "name": "ipython",
    "version": 3
   },
   "file_extension": ".py",
   "mimetype": "text/x-python",
   "name": "python",
   "nbconvert_exporter": "python",
   "pygments_lexer": "ipython3",
   "version": "3.11.5"
  },
  "toc": {
   "base_numbering": 1,
   "nav_menu": {},
   "number_sections": true,
   "sideBar": true,
   "skip_h1_title": false,
   "title_cell": "Table of Contents",
   "title_sidebar": "Contents",
   "toc_cell": true,
   "toc_position": {},
   "toc_section_display": true,
   "toc_window_display": true
  }
 },
 "nbformat": 4,
 "nbformat_minor": 5
}
